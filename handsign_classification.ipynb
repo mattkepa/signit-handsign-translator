{
 "cells": [
  {
   "cell_type": "code",
   "execution_count": 1,
   "metadata": {
    "id": "igMyGnjE9hEp"
   },
   "outputs": [
    {
     "name": "stderr",
     "output_type": "stream",
     "text": [
      "2023-03-10 22:25:13.682863: I tensorflow/core/platform/cpu_feature_guard.cc:182] This TensorFlow binary is optimized to use available CPU instructions in performance-critical operations.\n",
      "To enable the following instructions: AVX2 FMA, in other operations, rebuild TensorFlow with the appropriate compiler flags.\n"
     ]
    }
   ],
   "source": [
    "import csv\n",
    "import numpy as np\n",
    "import tensorflow as tf\n",
    "from sklearn.model_selection import train_test_split\n",
    "\n",
    "RANDOM_SEED = 42"
   ]
  },
  {
   "cell_type": "markdown",
   "metadata": {
    "id": "t2HDvhIu9hEr"
   },
   "source": [
    "# Specify each path"
   ]
  },
  {
   "cell_type": "code",
   "execution_count": 2,
   "metadata": {
    "id": "9NvZP2Zn9hEy"
   },
   "outputs": [],
   "source": [
    "dataset = 'model/handsign_data.csv'\n",
    "model_save_path = 'model/handsign_classifier-model.hdf5'\n",
    "tflite_save_path = 'model/handsign_classifier-model.tflite'"
   ]
  },
  {
   "cell_type": "markdown",
   "metadata": {
    "id": "s5oMH7x19hEz"
   },
   "source": [
    "# Set number of classes"
   ]
  },
  {
   "cell_type": "code",
   "execution_count": 3,
   "metadata": {
    "id": "du4kodXL9hEz"
   },
   "outputs": [],
   "source": [
    "NUM_CLASSES = 26"
   ]
  },
  {
   "cell_type": "markdown",
   "metadata": {
    "id": "XjnL0uso9hEz"
   },
   "source": [
    "# Dataset reading"
   ]
  },
  {
   "cell_type": "code",
   "execution_count": 4,
   "metadata": {
    "id": "QT5ZqtEz9hE0"
   },
   "outputs": [],
   "source": [
    "X_dataset = np.loadtxt(dataset, delimiter=',', dtype='float32', usecols=list(range(1, (21 * 2) + 1)))"
   ]
  },
  {
   "cell_type": "code",
   "execution_count": 5,
   "metadata": {
    "id": "QmoKFsp49hE0"
   },
   "outputs": [],
   "source": [
    "y_dataset = np.loadtxt(dataset, delimiter=',', dtype='int32', usecols=(0))"
   ]
  },
  {
   "cell_type": "code",
   "execution_count": 6,
   "metadata": {
    "id": "xQU7JTZ_9hE0"
   },
   "outputs": [],
   "source": [
    "X_train, X_test, y_train, y_test = train_test_split(X_dataset, y_dataset, train_size=0.75, random_state=RANDOM_SEED)"
   ]
  },
  {
   "cell_type": "markdown",
   "metadata": {
    "id": "mxK_lETT9hE0"
   },
   "source": [
    "# Model building"
   ]
  },
  {
   "cell_type": "code",
   "execution_count": 7,
   "metadata": {
    "id": "vHBmUf1t9hE1"
   },
   "outputs": [],
   "source": [
    "model = tf.keras.models.Sequential([\n",
    "    tf.keras.layers.Input((21 * 2, )),\n",
    "    tf.keras.layers.Dropout(0.2),\n",
    "    tf.keras.layers.Dense(20, activation='relu'),\n",
    "    tf.keras.layers.Dropout(0.4),\n",
    "    tf.keras.layers.Dense(10, activation='relu'),\n",
    "    tf.keras.layers.Dense(NUM_CLASSES, activation='softmax')\n",
    "])"
   ]
  },
  {
   "cell_type": "code",
   "execution_count": 8,
   "metadata": {
    "colab": {
     "base_uri": "https://localhost:8080/"
    },
    "id": "ypqky9tc9hE1",
    "outputId": "5db082bb-30e3-4110-bf63-a1ee777ecd46"
   },
   "outputs": [
    {
     "name": "stdout",
     "output_type": "stream",
     "text": [
      "Model: \"sequential\"\n",
      "_________________________________________________________________\n",
      " Layer (type)                Output Shape              Param #   \n",
      "=================================================================\n",
      " dropout (Dropout)           (None, 42)                0         \n",
      "                                                                 \n",
      " dense (Dense)               (None, 20)                860       \n",
      "                                                                 \n",
      " dropout_1 (Dropout)         (None, 20)                0         \n",
      "                                                                 \n",
      " dense_1 (Dense)             (None, 10)                210       \n",
      "                                                                 \n",
      " dense_2 (Dense)             (None, 26)                286       \n",
      "                                                                 \n",
      "=================================================================\n",
      "Total params: 1,356\n",
      "Trainable params: 1,356\n",
      "Non-trainable params: 0\n",
      "_________________________________________________________________\n"
     ]
    }
   ],
   "source": [
    "model.summary()  # tf.keras.utils.plot_model(model, show_shapes=True)"
   ]
  },
  {
   "cell_type": "code",
   "execution_count": 9,
   "metadata": {
    "id": "MbMjOflQ9hE1"
   },
   "outputs": [],
   "source": [
    "# Model checkpoint callback\n",
    "cp_callback = tf.keras.callbacks.ModelCheckpoint(\n",
    "    model_save_path, verbose=1, save_weights_only=False)\n",
    "# Callback for early stopping\n",
    "es_callback = tf.keras.callbacks.EarlyStopping(patience=20, verbose=1)"
   ]
  },
  {
   "cell_type": "code",
   "execution_count": 10,
   "metadata": {
    "id": "c3Dac0M_9hE2"
   },
   "outputs": [],
   "source": [
    "# Model compilation\n",
    "model.compile(\n",
    "    optimizer='adam',\n",
    "    loss='sparse_categorical_crossentropy',\n",
    "    metrics=['accuracy']\n",
    ")"
   ]
  },
  {
   "cell_type": "markdown",
   "metadata": {
    "id": "7XI0j1Iu9hE2"
   },
   "source": [
    "# Model training"
   ]
  },
  {
   "cell_type": "code",
   "execution_count": 11,
   "metadata": {
    "colab": {
     "base_uri": "https://localhost:8080/"
    },
    "id": "WirBl-JE9hE3",
    "outputId": "71b30ca2-8294-4d9d-8aa2-800d90d399de",
    "scrolled": true
   },
   "outputs": [
    {
     "name": "stdout",
     "output_type": "stream",
     "text": [
      "Epoch 1/1000\n",
      "70/88 [======================>.......] - ETA: 0s - loss: 3.2587 - accuracy: 0.0472\n",
      "Epoch 1: saving model to model/handsign_classifier-model.hdf5\n",
      "88/88 [==============================] - 3s 11ms/step - loss: 3.2498 - accuracy: 0.0503 - val_loss: 3.1841 - val_accuracy: 0.0843\n",
      "Epoch 2/1000\n",
      "74/88 [========================>.....] - ETA: 0s - loss: 3.1465 - accuracy: 0.0950\n",
      "Epoch 2: saving model to model/handsign_classifier-model.hdf5\n",
      "88/88 [==============================] - 0s 2ms/step - loss: 3.1294 - accuracy: 0.0996 - val_loss: 2.9644 - val_accuracy: 0.1405\n",
      "Epoch 3/1000\n",
      "74/88 [========================>.....] - ETA: 0s - loss: 2.9336 - accuracy: 0.1302\n",
      "Epoch 3: saving model to model/handsign_classifier-model.hdf5\n",
      "88/88 [==============================] - 0s 2ms/step - loss: 2.9150 - accuracy: 0.1329 - val_loss: 2.6452 - val_accuracy: 0.1955\n",
      "Epoch 4/1000\n",
      "72/88 [=======================>......] - ETA: 0s - loss: 2.6996 - accuracy: 0.1581\n",
      "Epoch 4: saving model to model/handsign_classifier-model.hdf5\n",
      "88/88 [==============================] - 0s 2ms/step - loss: 2.6794 - accuracy: 0.1619 - val_loss: 2.3128 - val_accuracy: 0.3229\n",
      "Epoch 5/1000\n",
      "75/88 [========================>.....] - ETA: 0s - loss: 2.4699 - accuracy: 0.1965\n",
      "Epoch 5: saving model to model/handsign_classifier-model.hdf5\n",
      "88/88 [==============================] - 0s 2ms/step - loss: 2.4562 - accuracy: 0.1985 - val_loss: 2.0496 - val_accuracy: 0.4131\n",
      "Epoch 6/1000\n",
      "73/88 [=======================>......] - ETA: 0s - loss: 2.3414 - accuracy: 0.2273\n",
      "Epoch 6: saving model to model/handsign_classifier-model.hdf5\n",
      "88/88 [==============================] - 0s 2ms/step - loss: 2.3219 - accuracy: 0.2296 - val_loss: 1.8821 - val_accuracy: 0.5744\n",
      "Epoch 7/1000\n",
      "74/88 [========================>.....] - ETA: 0s - loss: 2.2107 - accuracy: 0.2502\n",
      "Epoch 7: saving model to model/handsign_classifier-model.hdf5\n",
      "88/88 [==============================] - 0s 2ms/step - loss: 2.2030 - accuracy: 0.2531 - val_loss: 1.7586 - val_accuracy: 0.5459\n",
      "Epoch 8/1000\n",
      "74/88 [========================>.....] - ETA: 0s - loss: 2.1133 - accuracy: 0.2811\n",
      "Epoch 8: saving model to model/handsign_classifier-model.hdf5\n",
      "88/88 [==============================] - 0s 2ms/step - loss: 2.1025 - accuracy: 0.2851 - val_loss: 1.6452 - val_accuracy: 0.6117\n",
      "Epoch 9/1000\n",
      "71/88 [=======================>......] - ETA: 0s - loss: 2.0497 - accuracy: 0.3015\n",
      "Epoch 9: saving model to model/handsign_classifier-model.hdf5\n",
      "88/88 [==============================] - 0s 2ms/step - loss: 2.0444 - accuracy: 0.3013 - val_loss: 1.5618 - val_accuracy: 0.6165\n",
      "Epoch 10/1000\n",
      "73/88 [=======================>......] - ETA: 0s - loss: 1.9882 - accuracy: 0.3103\n",
      "Epoch 10: saving model to model/handsign_classifier-model.hdf5\n",
      "88/88 [==============================] - 0s 2ms/step - loss: 1.9847 - accuracy: 0.3134 - val_loss: 1.4845 - val_accuracy: 0.6856\n",
      "Epoch 11/1000\n",
      "73/88 [=======================>......] - ETA: 0s - loss: 1.9389 - accuracy: 0.3233\n",
      "Epoch 11: saving model to model/handsign_classifier-model.hdf5\n",
      "88/88 [==============================] - 0s 2ms/step - loss: 1.9310 - accuracy: 0.3245 - val_loss: 1.4158 - val_accuracy: 0.6712\n",
      "Epoch 12/1000\n",
      "73/88 [=======================>......] - ETA: 0s - loss: 1.8820 - accuracy: 0.3441\n",
      "Epoch 12: saving model to model/handsign_classifier-model.hdf5\n",
      "88/88 [==============================] - 0s 2ms/step - loss: 1.8852 - accuracy: 0.3435 - val_loss: 1.3632 - val_accuracy: 0.6965\n",
      "Epoch 13/1000\n",
      "71/88 [=======================>......] - ETA: 0s - loss: 1.8663 - accuracy: 0.3494\n",
      "Epoch 13: saving model to model/handsign_classifier-model.hdf5\n",
      "88/88 [==============================] - 0s 2ms/step - loss: 1.8608 - accuracy: 0.3500 - val_loss: 1.3125 - val_accuracy: 0.7400\n",
      "Epoch 14/1000\n",
      "69/88 [======================>.......] - ETA: 0s - loss: 1.8128 - accuracy: 0.3695\n",
      "Epoch 14: saving model to model/handsign_classifier-model.hdf5\n",
      "88/88 [==============================] - 0s 2ms/step - loss: 1.8189 - accuracy: 0.3668 - val_loss: 1.2657 - val_accuracy: 0.7856\n",
      "Epoch 15/1000\n",
      "71/88 [=======================>......] - ETA: 0s - loss: 1.7808 - accuracy: 0.3844\n",
      "Epoch 15: saving model to model/handsign_classifier-model.hdf5\n",
      "88/88 [==============================] - 0s 2ms/step - loss: 1.7794 - accuracy: 0.3845 - val_loss: 1.2315 - val_accuracy: 0.6949\n",
      "Epoch 16/1000\n",
      "71/88 [=======================>......] - ETA: 0s - loss: 1.7440 - accuracy: 0.3894\n",
      "Epoch 16: saving model to model/handsign_classifier-model.hdf5\n",
      "88/88 [==============================] - 0s 2ms/step - loss: 1.7479 - accuracy: 0.3884 - val_loss: 1.1805 - val_accuracy: 0.7451\n",
      "Epoch 17/1000\n",
      "73/88 [=======================>......] - ETA: 0s - loss: 1.7232 - accuracy: 0.3875\n",
      "Epoch 17: saving model to model/handsign_classifier-model.hdf5\n",
      "88/88 [==============================] - 0s 2ms/step - loss: 1.7194 - accuracy: 0.3886 - val_loss: 1.1446 - val_accuracy: 0.7464\n",
      "Epoch 18/1000\n",
      "65/88 [=====================>........] - ETA: 0s - loss: 1.6742 - accuracy: 0.4095\n",
      "Epoch 18: saving model to model/handsign_classifier-model.hdf5\n",
      "88/88 [==============================] - 0s 2ms/step - loss: 1.6776 - accuracy: 0.4092 - val_loss: 1.1109 - val_accuracy: 0.7800\n",
      "Epoch 19/1000\n",
      "69/88 [======================>.......] - ETA: 0s - loss: 1.6725 - accuracy: 0.4102\n",
      "Epoch 19: saving model to model/handsign_classifier-model.hdf5\n",
      "88/88 [==============================] - 0s 2ms/step - loss: 1.6639 - accuracy: 0.4108 - val_loss: 1.0833 - val_accuracy: 0.7944\n",
      "Epoch 20/1000\n",
      "71/88 [=======================>......] - ETA: 0s - loss: 1.6499 - accuracy: 0.4098\n",
      "Epoch 20: saving model to model/handsign_classifier-model.hdf5\n",
      "88/88 [==============================] - 0s 2ms/step - loss: 1.6394 - accuracy: 0.4121 - val_loss: 1.0544 - val_accuracy: 0.7875\n",
      "Epoch 21/1000\n",
      "65/88 [=====================>........] - ETA: 0s - loss: 1.6419 - accuracy: 0.4142\n",
      "Epoch 21: saving model to model/handsign_classifier-model.hdf5\n",
      "88/88 [==============================] - 0s 2ms/step - loss: 1.6409 - accuracy: 0.4144 - val_loss: 1.0590 - val_accuracy: 0.7512\n",
      "Epoch 22/1000\n",
      "68/88 [======================>.......] - ETA: 0s - loss: 1.5988 - accuracy: 0.4330\n",
      "Epoch 22: saving model to model/handsign_classifier-model.hdf5\n",
      "88/88 [==============================] - 0s 2ms/step - loss: 1.5982 - accuracy: 0.4328 - val_loss: 1.0117 - val_accuracy: 0.8008\n",
      "Epoch 23/1000\n",
      "70/88 [======================>.......] - ETA: 0s - loss: 1.5846 - accuracy: 0.4313\n",
      "Epoch 23: saving model to model/handsign_classifier-model.hdf5\n",
      "88/88 [==============================] - 0s 2ms/step - loss: 1.5808 - accuracy: 0.4334 - val_loss: 0.9839 - val_accuracy: 0.7888\n",
      "Epoch 24/1000\n",
      "70/88 [======================>.......] - ETA: 0s - loss: 1.5865 - accuracy: 0.4387\n",
      "Epoch 24: saving model to model/handsign_classifier-model.hdf5\n",
      "88/88 [==============================] - 0s 2ms/step - loss: 1.5803 - accuracy: 0.4382 - val_loss: 0.9729 - val_accuracy: 0.8027\n",
      "Epoch 25/1000\n",
      "66/88 [=====================>........] - ETA: 0s - loss: 1.5588 - accuracy: 0.4487\n",
      "Epoch 25: saving model to model/handsign_classifier-model.hdf5\n",
      "88/88 [==============================] - 0s 2ms/step - loss: 1.5599 - accuracy: 0.4477 - val_loss: 0.9649 - val_accuracy: 0.7848\n",
      "Epoch 26/1000\n",
      "68/88 [======================>.......] - ETA: 0s - loss: 1.5320 - accuracy: 0.4527\n",
      "Epoch 26: saving model to model/handsign_classifier-model.hdf5\n",
      "88/88 [==============================] - 0s 2ms/step - loss: 1.5319 - accuracy: 0.4529 - val_loss: 0.9402 - val_accuracy: 0.8072\n",
      "Epoch 27/1000\n",
      "68/88 [======================>.......] - ETA: 0s - loss: 1.5129 - accuracy: 0.4615\n",
      "Epoch 27: saving model to model/handsign_classifier-model.hdf5\n",
      "88/88 [==============================] - 0s 2ms/step - loss: 1.5120 - accuracy: 0.4625 - val_loss: 0.9177 - val_accuracy: 0.8075\n",
      "Epoch 28/1000\n",
      "70/88 [======================>.......] - ETA: 0s - loss: 1.5034 - accuracy: 0.4679\n",
      "Epoch 28: saving model to model/handsign_classifier-model.hdf5\n",
      "88/88 [==============================] - 0s 2ms/step - loss: 1.4941 - accuracy: 0.4708 - val_loss: 0.9024 - val_accuracy: 0.8248\n",
      "Epoch 29/1000\n",
      "71/88 [=======================>......] - ETA: 0s - loss: 1.4969 - accuracy: 0.4702\n",
      "Epoch 29: saving model to model/handsign_classifier-model.hdf5\n"
     ]
    },
    {
     "name": "stdout",
     "output_type": "stream",
     "text": [
      "88/88 [==============================] - 0s 2ms/step - loss: 1.4973 - accuracy: 0.4688 - val_loss: 0.8998 - val_accuracy: 0.7917\n",
      "Epoch 30/1000\n",
      "71/88 [=======================>......] - ETA: 0s - loss: 1.4808 - accuracy: 0.4641\n",
      "Epoch 30: saving model to model/handsign_classifier-model.hdf5\n",
      "88/88 [==============================] - 0s 2ms/step - loss: 1.4669 - accuracy: 0.4707 - val_loss: 0.8705 - val_accuracy: 0.8125\n",
      "Epoch 31/1000\n",
      "69/88 [======================>.......] - ETA: 0s - loss: 1.4739 - accuracy: 0.4769\n",
      "Epoch 31: saving model to model/handsign_classifier-model.hdf5\n",
      "88/88 [==============================] - 0s 2ms/step - loss: 1.4744 - accuracy: 0.4772 - val_loss: 0.8594 - val_accuracy: 0.8256\n",
      "Epoch 32/1000\n",
      "71/88 [=======================>......] - ETA: 0s - loss: 1.4531 - accuracy: 0.4828\n",
      "Epoch 32: saving model to model/handsign_classifier-model.hdf5\n",
      "88/88 [==============================] - 0s 2ms/step - loss: 1.4540 - accuracy: 0.4814 - val_loss: 0.8321 - val_accuracy: 0.8200\n",
      "Epoch 33/1000\n",
      "72/88 [=======================>......] - ETA: 0s - loss: 1.4495 - accuracy: 0.4824\n",
      "Epoch 33: saving model to model/handsign_classifier-model.hdf5\n",
      "88/88 [==============================] - 0s 2ms/step - loss: 1.4437 - accuracy: 0.4821 - val_loss: 0.8255 - val_accuracy: 0.8504\n",
      "Epoch 34/1000\n",
      "67/88 [=====================>........] - ETA: 0s - loss: 1.4276 - accuracy: 0.4934\n",
      "Epoch 34: saving model to model/handsign_classifier-model.hdf5\n",
      "88/88 [==============================] - 0s 2ms/step - loss: 1.4267 - accuracy: 0.4920 - val_loss: 0.8172 - val_accuracy: 0.8101\n",
      "Epoch 35/1000\n",
      "68/88 [======================>.......] - ETA: 0s - loss: 1.4254 - accuracy: 0.4935\n",
      "Epoch 35: saving model to model/handsign_classifier-model.hdf5\n",
      "88/88 [==============================] - 0s 2ms/step - loss: 1.4174 - accuracy: 0.4955 - val_loss: 0.7947 - val_accuracy: 0.8432\n",
      "Epoch 36/1000\n",
      "68/88 [======================>.......] - ETA: 0s - loss: 1.3973 - accuracy: 0.4994\n",
      "Epoch 36: saving model to model/handsign_classifier-model.hdf5\n",
      "88/88 [==============================] - 0s 2ms/step - loss: 1.3965 - accuracy: 0.4994 - val_loss: 0.7798 - val_accuracy: 0.8451\n",
      "Epoch 37/1000\n",
      "69/88 [======================>.......] - ETA: 0s - loss: 1.3740 - accuracy: 0.5108\n",
      "Epoch 37: saving model to model/handsign_classifier-model.hdf5\n",
      "88/88 [==============================] - 0s 2ms/step - loss: 1.3797 - accuracy: 0.5057 - val_loss: 0.7805 - val_accuracy: 0.8491\n",
      "Epoch 38/1000\n",
      "69/88 [======================>.......] - ETA: 0s - loss: 1.3653 - accuracy: 0.5191\n",
      "Epoch 38: saving model to model/handsign_classifier-model.hdf5\n",
      "88/88 [==============================] - 0s 2ms/step - loss: 1.3607 - accuracy: 0.5198 - val_loss: 0.7567 - val_accuracy: 0.8483\n",
      "Epoch 39/1000\n",
      "70/88 [======================>.......] - ETA: 0s - loss: 1.3778 - accuracy: 0.5125\n",
      "Epoch 39: saving model to model/handsign_classifier-model.hdf5\n",
      "88/88 [==============================] - 0s 2ms/step - loss: 1.3762 - accuracy: 0.5127 - val_loss: 0.7630 - val_accuracy: 0.8408\n",
      "Epoch 40/1000\n",
      "69/88 [======================>.......] - ETA: 0s - loss: 1.3637 - accuracy: 0.5139\n",
      "Epoch 40: saving model to model/handsign_classifier-model.hdf5\n",
      "88/88 [==============================] - 0s 3ms/step - loss: 1.3565 - accuracy: 0.5139 - val_loss: 0.7499 - val_accuracy: 0.8384\n",
      "Epoch 41/1000\n",
      "63/88 [====================>.........] - ETA: 0s - loss: 1.3601 - accuracy: 0.5122\n",
      "Epoch 41: saving model to model/handsign_classifier-model.hdf5\n",
      "88/88 [==============================] - 0s 3ms/step - loss: 1.3609 - accuracy: 0.5124 - val_loss: 0.7419 - val_accuracy: 0.8272\n",
      "Epoch 42/1000\n",
      "66/88 [=====================>........] - ETA: 0s - loss: 1.3539 - accuracy: 0.5166\n",
      "Epoch 42: saving model to model/handsign_classifier-model.hdf5\n",
      "88/88 [==============================] - 0s 2ms/step - loss: 1.3516 - accuracy: 0.5157 - val_loss: 0.7361 - val_accuracy: 0.8067\n",
      "Epoch 43/1000\n",
      "68/88 [======================>.......] - ETA: 0s - loss: 1.3246 - accuracy: 0.5267\n",
      "Epoch 43: saving model to model/handsign_classifier-model.hdf5\n",
      "88/88 [==============================] - 0s 3ms/step - loss: 1.3232 - accuracy: 0.5275 - val_loss: 0.7269 - val_accuracy: 0.8267\n",
      "Epoch 44/1000\n",
      "60/88 [===================>..........] - ETA: 0s - loss: 1.3339 - accuracy: 0.5262\n",
      "Epoch 44: saving model to model/handsign_classifier-model.hdf5\n",
      "88/88 [==============================] - 0s 2ms/step - loss: 1.3257 - accuracy: 0.5261 - val_loss: 0.7061 - val_accuracy: 0.8600\n",
      "Epoch 45/1000\n",
      "67/88 [=====================>........] - ETA: 0s - loss: 1.3124 - accuracy: 0.5279\n",
      "Epoch 45: saving model to model/handsign_classifier-model.hdf5\n",
      "88/88 [==============================] - 0s 2ms/step - loss: 1.3185 - accuracy: 0.5258 - val_loss: 0.7186 - val_accuracy: 0.8560\n",
      "Epoch 46/1000\n",
      "67/88 [=====================>........] - ETA: 0s - loss: 1.3054 - accuracy: 0.5374\n",
      "Epoch 46: saving model to model/handsign_classifier-model.hdf5\n",
      "88/88 [==============================] - 0s 2ms/step - loss: 1.3033 - accuracy: 0.5366 - val_loss: 0.7061 - val_accuracy: 0.8472\n",
      "Epoch 47/1000\n",
      "67/88 [=====================>........] - ETA: 0s - loss: 1.3060 - accuracy: 0.5329\n",
      "Epoch 47: saving model to model/handsign_classifier-model.hdf5\n",
      "88/88 [==============================] - 0s 3ms/step - loss: 1.2986 - accuracy: 0.5345 - val_loss: 0.6970 - val_accuracy: 0.8627\n",
      "Epoch 48/1000\n",
      "85/88 [===========================>..] - ETA: 0s - loss: 1.2955 - accuracy: 0.5355\n",
      "Epoch 48: saving model to model/handsign_classifier-model.hdf5\n",
      "88/88 [==============================] - 0s 3ms/step - loss: 1.2947 - accuracy: 0.5356 - val_loss: 0.6961 - val_accuracy: 0.8541\n",
      "Epoch 49/1000\n",
      "67/88 [=====================>........] - ETA: 0s - loss: 1.3029 - accuracy: 0.5321\n",
      "Epoch 49: saving model to model/handsign_classifier-model.hdf5\n",
      "88/88 [==============================] - 0s 2ms/step - loss: 1.2961 - accuracy: 0.5313 - val_loss: 0.6793 - val_accuracy: 0.8741\n",
      "Epoch 50/1000\n",
      "71/88 [=======================>......] - ETA: 0s - loss: 1.2726 - accuracy: 0.5438\n",
      "Epoch 50: saving model to model/handsign_classifier-model.hdf5\n",
      "88/88 [==============================] - 0s 2ms/step - loss: 1.2711 - accuracy: 0.5448 - val_loss: 0.6780 - val_accuracy: 0.8467\n",
      "Epoch 51/1000\n",
      "70/88 [======================>.......] - ETA: 0s - loss: 1.2765 - accuracy: 0.5415\n",
      "Epoch 51: saving model to model/handsign_classifier-model.hdf5\n",
      "88/88 [==============================] - 0s 2ms/step - loss: 1.2761 - accuracy: 0.5436 - val_loss: 0.6773 - val_accuracy: 0.8515\n",
      "Epoch 52/1000\n",
      "67/88 [=====================>........] - ETA: 0s - loss: 1.2858 - accuracy: 0.5395\n",
      "Epoch 52: saving model to model/handsign_classifier-model.hdf5\n",
      "88/88 [==============================] - 0s 2ms/step - loss: 1.2885 - accuracy: 0.5396 - val_loss: 0.6799 - val_accuracy: 0.8427\n",
      "Epoch 53/1000\n",
      "69/88 [======================>.......] - ETA: 0s - loss: 1.2892 - accuracy: 0.5349\n",
      "Epoch 53: saving model to model/handsign_classifier-model.hdf5\n",
      "88/88 [==============================] - 0s 2ms/step - loss: 1.2822 - accuracy: 0.5393 - val_loss: 0.6750 - val_accuracy: 0.8496\n",
      "Epoch 54/1000\n",
      "70/88 [======================>.......] - ETA: 0s - loss: 1.2613 - accuracy: 0.5518\n",
      "Epoch 54: saving model to model/handsign_classifier-model.hdf5\n",
      "88/88 [==============================] - 0s 2ms/step - loss: 1.2700 - accuracy: 0.5481 - val_loss: 0.6891 - val_accuracy: 0.8520\n",
      "Epoch 55/1000\n",
      "70/88 [======================>.......] - ETA: 0s - loss: 1.2664 - accuracy: 0.5469\n",
      "Epoch 55: saving model to model/handsign_classifier-model.hdf5\n",
      "88/88 [==============================] - 0s 2ms/step - loss: 1.2597 - accuracy: 0.5472 - val_loss: 0.6739 - val_accuracy: 0.8731\n",
      "Epoch 56/1000\n",
      "70/88 [======================>.......] - ETA: 0s - loss: 1.2715 - accuracy: 0.5471\n",
      "Epoch 56: saving model to model/handsign_classifier-model.hdf5\n",
      "88/88 [==============================] - 0s 2ms/step - loss: 1.2708 - accuracy: 0.5465 - val_loss: 0.6609 - val_accuracy: 0.8363\n",
      "Epoch 57/1000\n",
      "69/88 [======================>.......] - ETA: 0s - loss: 1.2422 - accuracy: 0.5598\n",
      "Epoch 57: saving model to model/handsign_classifier-model.hdf5\n",
      "88/88 [==============================] - 0s 2ms/step - loss: 1.2330 - accuracy: 0.5596 - val_loss: 0.6610 - val_accuracy: 0.8653\n"
     ]
    },
    {
     "name": "stdout",
     "output_type": "stream",
     "text": [
      "Epoch 58/1000\n",
      "73/88 [=======================>......] - ETA: 0s - loss: 1.2470 - accuracy: 0.5472\n",
      "Epoch 58: saving model to model/handsign_classifier-model.hdf5\n",
      "88/88 [==============================] - 0s 2ms/step - loss: 1.2380 - accuracy: 0.5511 - val_loss: 0.6459 - val_accuracy: 0.8517\n",
      "Epoch 59/1000\n",
      "72/88 [=======================>......] - ETA: 0s - loss: 1.2472 - accuracy: 0.5510\n",
      "Epoch 59: saving model to model/handsign_classifier-model.hdf5\n",
      "88/88 [==============================] - 0s 2ms/step - loss: 1.2455 - accuracy: 0.5526 - val_loss: 0.6590 - val_accuracy: 0.8189\n",
      "Epoch 60/1000\n",
      "74/88 [========================>.....] - ETA: 0s - loss: 1.2375 - accuracy: 0.5598\n",
      "Epoch 60: saving model to model/handsign_classifier-model.hdf5\n",
      "88/88 [==============================] - 0s 2ms/step - loss: 1.2354 - accuracy: 0.5617 - val_loss: 0.6488 - val_accuracy: 0.8336\n",
      "Epoch 61/1000\n",
      "75/88 [========================>.....] - ETA: 0s - loss: 1.2283 - accuracy: 0.5577\n",
      "Epoch 61: saving model to model/handsign_classifier-model.hdf5\n",
      "88/88 [==============================] - 0s 2ms/step - loss: 1.2360 - accuracy: 0.5564 - val_loss: 0.6523 - val_accuracy: 0.8400\n",
      "Epoch 62/1000\n",
      "71/88 [=======================>......] - ETA: 0s - loss: 1.2412 - accuracy: 0.5541\n",
      "Epoch 62: saving model to model/handsign_classifier-model.hdf5\n",
      "88/88 [==============================] - 0s 2ms/step - loss: 1.2325 - accuracy: 0.5564 - val_loss: 0.6529 - val_accuracy: 0.8568\n",
      "Epoch 63/1000\n",
      "73/88 [=======================>......] - ETA: 0s - loss: 1.2314 - accuracy: 0.5625\n",
      "Epoch 63: saving model to model/handsign_classifier-model.hdf5\n",
      "88/88 [==============================] - 0s 2ms/step - loss: 1.2238 - accuracy: 0.5636 - val_loss: 0.6479 - val_accuracy: 0.8539\n",
      "Epoch 64/1000\n",
      "70/88 [======================>.......] - ETA: 0s - loss: 1.2350 - accuracy: 0.5599\n",
      "Epoch 64: saving model to model/handsign_classifier-model.hdf5\n",
      "88/88 [==============================] - 0s 2ms/step - loss: 1.2376 - accuracy: 0.5567 - val_loss: 0.6384 - val_accuracy: 0.8576\n",
      "Epoch 65/1000\n",
      "72/88 [=======================>......] - ETA: 0s - loss: 1.2285 - accuracy: 0.5629\n",
      "Epoch 65: saving model to model/handsign_classifier-model.hdf5\n",
      "88/88 [==============================] - 0s 2ms/step - loss: 1.2275 - accuracy: 0.5652 - val_loss: 0.6377 - val_accuracy: 0.8677\n",
      "Epoch 66/1000\n",
      "72/88 [=======================>......] - ETA: 0s - loss: 1.2218 - accuracy: 0.5680\n",
      "Epoch 66: saving model to model/handsign_classifier-model.hdf5\n",
      "88/88 [==============================] - 0s 2ms/step - loss: 1.2188 - accuracy: 0.5669 - val_loss: 0.6346 - val_accuracy: 0.8627\n",
      "Epoch 67/1000\n",
      "72/88 [=======================>......] - ETA: 0s - loss: 1.2100 - accuracy: 0.5683\n",
      "Epoch 67: saving model to model/handsign_classifier-model.hdf5\n",
      "88/88 [==============================] - 0s 2ms/step - loss: 1.2048 - accuracy: 0.5683 - val_loss: 0.6356 - val_accuracy: 0.8491\n",
      "Epoch 68/1000\n",
      "69/88 [======================>.......] - ETA: 0s - loss: 1.2127 - accuracy: 0.5680\n",
      "Epoch 68: saving model to model/handsign_classifier-model.hdf5\n",
      "88/88 [==============================] - 0s 2ms/step - loss: 1.2075 - accuracy: 0.5684 - val_loss: 0.6438 - val_accuracy: 0.8464\n",
      "Epoch 69/1000\n",
      "70/88 [======================>.......] - ETA: 0s - loss: 1.1926 - accuracy: 0.5750\n",
      "Epoch 69: saving model to model/handsign_classifier-model.hdf5\n",
      "88/88 [==============================] - 0s 2ms/step - loss: 1.1933 - accuracy: 0.5754 - val_loss: 0.6280 - val_accuracy: 0.8600\n",
      "Epoch 70/1000\n",
      "72/88 [=======================>......] - ETA: 0s - loss: 1.1997 - accuracy: 0.5720\n",
      "Epoch 70: saving model to model/handsign_classifier-model.hdf5\n",
      "88/88 [==============================] - 0s 2ms/step - loss: 1.1972 - accuracy: 0.5731 - val_loss: 0.6260 - val_accuracy: 0.8533\n",
      "Epoch 71/1000\n",
      "72/88 [=======================>......] - ETA: 0s - loss: 1.2013 - accuracy: 0.5735\n",
      "Epoch 71: saving model to model/handsign_classifier-model.hdf5\n",
      "88/88 [==============================] - 0s 2ms/step - loss: 1.2032 - accuracy: 0.5708 - val_loss: 0.6297 - val_accuracy: 0.8400\n",
      "Epoch 72/1000\n",
      "65/88 [=====================>........] - ETA: 0s - loss: 1.1804 - accuracy: 0.5793\n",
      "Epoch 72: saving model to model/handsign_classifier-model.hdf5\n",
      "88/88 [==============================] - 0s 3ms/step - loss: 1.1956 - accuracy: 0.5736 - val_loss: 0.6235 - val_accuracy: 0.8528\n",
      "Epoch 73/1000\n",
      "65/88 [=====================>........] - ETA: 0s - loss: 1.1921 - accuracy: 0.5715\n",
      "Epoch 73: saving model to model/handsign_classifier-model.hdf5\n",
      "88/88 [==============================] - 0s 2ms/step - loss: 1.1950 - accuracy: 0.5701 - val_loss: 0.6197 - val_accuracy: 0.8723\n",
      "Epoch 74/1000\n",
      "72/88 [=======================>......] - ETA: 0s - loss: 1.1972 - accuracy: 0.5729\n",
      "Epoch 74: saving model to model/handsign_classifier-model.hdf5\n",
      "88/88 [==============================] - 0s 2ms/step - loss: 1.1899 - accuracy: 0.5771 - val_loss: 0.6155 - val_accuracy: 0.8472\n",
      "Epoch 75/1000\n",
      "71/88 [=======================>......] - ETA: 0s - loss: 1.1895 - accuracy: 0.5711\n",
      "Epoch 75: saving model to model/handsign_classifier-model.hdf5\n",
      "88/88 [==============================] - 0s 2ms/step - loss: 1.1887 - accuracy: 0.5743 - val_loss: 0.6152 - val_accuracy: 0.8555\n",
      "Epoch 76/1000\n",
      "69/88 [======================>.......] - ETA: 0s - loss: 1.1877 - accuracy: 0.5753\n",
      "Epoch 76: saving model to model/handsign_classifier-model.hdf5\n",
      "88/88 [==============================] - 0s 2ms/step - loss: 1.1913 - accuracy: 0.5721 - val_loss: 0.6123 - val_accuracy: 0.8752\n",
      "Epoch 77/1000\n",
      "70/88 [======================>.......] - ETA: 0s - loss: 1.1976 - accuracy: 0.5719\n",
      "Epoch 77: saving model to model/handsign_classifier-model.hdf5\n",
      "88/88 [==============================] - 0s 2ms/step - loss: 1.1981 - accuracy: 0.5733 - val_loss: 0.6079 - val_accuracy: 0.8733\n",
      "Epoch 78/1000\n",
      "71/88 [=======================>......] - ETA: 0s - loss: 1.1697 - accuracy: 0.5847\n",
      "Epoch 78: saving model to model/handsign_classifier-model.hdf5\n",
      "88/88 [==============================] - 0s 2ms/step - loss: 1.1687 - accuracy: 0.5844 - val_loss: 0.6075 - val_accuracy: 0.8528\n",
      "Epoch 79/1000\n",
      "69/88 [======================>.......] - ETA: 0s - loss: 1.1966 - accuracy: 0.5703\n",
      "Epoch 79: saving model to model/handsign_classifier-model.hdf5\n",
      "88/88 [==============================] - 0s 2ms/step - loss: 1.2026 - accuracy: 0.5695 - val_loss: 0.6101 - val_accuracy: 0.8496\n",
      "Epoch 80/1000\n",
      "62/88 [====================>.........] - ETA: 0s - loss: 1.1835 - accuracy: 0.5688\n",
      "Epoch 80: saving model to model/handsign_classifier-model.hdf5\n",
      "88/88 [==============================] - 0s 3ms/step - loss: 1.1734 - accuracy: 0.5760 - val_loss: 0.6181 - val_accuracy: 0.8515\n",
      "Epoch 81/1000\n",
      "62/88 [====================>.........] - ETA: 0s - loss: 1.1788 - accuracy: 0.5759\n",
      "Epoch 81: saving model to model/handsign_classifier-model.hdf5\n",
      "88/88 [==============================] - 0s 3ms/step - loss: 1.1673 - accuracy: 0.5829 - val_loss: 0.6077 - val_accuracy: 0.8704\n",
      "Epoch 82/1000\n",
      "66/88 [=====================>........] - ETA: 0s - loss: 1.1798 - accuracy: 0.5767\n",
      "Epoch 82: saving model to model/handsign_classifier-model.hdf5\n",
      "88/88 [==============================] - 0s 2ms/step - loss: 1.1696 - accuracy: 0.5803 - val_loss: 0.6187 - val_accuracy: 0.8432\n",
      "Epoch 83/1000\n",
      "65/88 [=====================>........] - ETA: 0s - loss: 1.1684 - accuracy: 0.5829\n",
      "Epoch 83: saving model to model/handsign_classifier-model.hdf5\n",
      "88/88 [==============================] - 0s 2ms/step - loss: 1.1706 - accuracy: 0.5868 - val_loss: 0.6121 - val_accuracy: 0.8467\n",
      "Epoch 84/1000\n",
      "70/88 [======================>.......] - ETA: 0s - loss: 1.1692 - accuracy: 0.5871\n",
      "Epoch 84: saving model to model/handsign_classifier-model.hdf5\n",
      "88/88 [==============================] - 0s 2ms/step - loss: 1.1627 - accuracy: 0.5875 - val_loss: 0.6114 - val_accuracy: 0.8704\n",
      "Epoch 85/1000\n",
      "67/88 [=====================>........] - ETA: 0s - loss: 1.1656 - accuracy: 0.5852\n",
      "Epoch 85: saving model to model/handsign_classifier-model.hdf5\n",
      "88/88 [==============================] - 0s 2ms/step - loss: 1.1675 - accuracy: 0.5857 - val_loss: 0.5994 - val_accuracy: 0.8731\n",
      "Epoch 86/1000\n",
      "67/88 [=====================>........] - ETA: 0s - loss: 1.1589 - accuracy: 0.5882\n",
      "Epoch 86: saving model to model/handsign_classifier-model.hdf5\n"
     ]
    },
    {
     "name": "stdout",
     "output_type": "stream",
     "text": [
      "88/88 [==============================] - 0s 2ms/step - loss: 1.1621 - accuracy: 0.5870 - val_loss: 0.6079 - val_accuracy: 0.8520\n",
      "Epoch 87/1000\n",
      "72/88 [=======================>......] - ETA: 0s - loss: 1.1538 - accuracy: 0.5867\n",
      "Epoch 87: saving model to model/handsign_classifier-model.hdf5\n",
      "88/88 [==============================] - 0s 2ms/step - loss: 1.1497 - accuracy: 0.5890 - val_loss: 0.6116 - val_accuracy: 0.8560\n",
      "Epoch 88/1000\n",
      "67/88 [=====================>........] - ETA: 0s - loss: 1.1371 - accuracy: 0.5908\n",
      "Epoch 88: saving model to model/handsign_classifier-model.hdf5\n",
      "88/88 [==============================] - 0s 2ms/step - loss: 1.1486 - accuracy: 0.5889 - val_loss: 0.6069 - val_accuracy: 0.8869\n",
      "Epoch 89/1000\n",
      "70/88 [======================>.......] - ETA: 0s - loss: 1.1320 - accuracy: 0.5938\n",
      "Epoch 89: saving model to model/handsign_classifier-model.hdf5\n",
      "88/88 [==============================] - 0s 2ms/step - loss: 1.1449 - accuracy: 0.5908 - val_loss: 0.6018 - val_accuracy: 0.8843\n",
      "Epoch 90/1000\n",
      "65/88 [=====================>........] - ETA: 0s - loss: 1.1525 - accuracy: 0.5845\n",
      "Epoch 90: saving model to model/handsign_classifier-model.hdf5\n",
      "88/88 [==============================] - 0s 3ms/step - loss: 1.1511 - accuracy: 0.5893 - val_loss: 0.6104 - val_accuracy: 0.8565\n",
      "Epoch 91/1000\n",
      "66/88 [=====================>........] - ETA: 0s - loss: 1.1504 - accuracy: 0.5911\n",
      "Epoch 91: saving model to model/handsign_classifier-model.hdf5\n",
      "88/88 [==============================] - 0s 3ms/step - loss: 1.1458 - accuracy: 0.5934 - val_loss: 0.6007 - val_accuracy: 0.8568\n",
      "Epoch 92/1000\n",
      "72/88 [=======================>......] - ETA: 0s - loss: 1.1494 - accuracy: 0.5929\n",
      "Epoch 92: saving model to model/handsign_classifier-model.hdf5\n",
      "88/88 [==============================] - 0s 2ms/step - loss: 1.1511 - accuracy: 0.5968 - val_loss: 0.5941 - val_accuracy: 0.8861\n",
      "Epoch 93/1000\n",
      "72/88 [=======================>......] - ETA: 0s - loss: 1.1285 - accuracy: 0.6008\n",
      "Epoch 93: saving model to model/handsign_classifier-model.hdf5\n",
      "88/88 [==============================] - 0s 2ms/step - loss: 1.1351 - accuracy: 0.5975 - val_loss: 0.5899 - val_accuracy: 0.8723\n",
      "Epoch 94/1000\n",
      "68/88 [======================>.......] - ETA: 0s - loss: 1.1299 - accuracy: 0.5957\n",
      "Epoch 94: saving model to model/handsign_classifier-model.hdf5\n",
      "88/88 [==============================] - 0s 2ms/step - loss: 1.1268 - accuracy: 0.5965 - val_loss: 0.5853 - val_accuracy: 0.8704\n",
      "Epoch 95/1000\n",
      "62/88 [====================>.........] - ETA: 0s - loss: 1.1480 - accuracy: 0.5881\n",
      "Epoch 95: saving model to model/handsign_classifier-model.hdf5\n",
      "88/88 [==============================] - 0s 2ms/step - loss: 1.1414 - accuracy: 0.5904 - val_loss: 0.5958 - val_accuracy: 0.8616\n",
      "Epoch 96/1000\n",
      "71/88 [=======================>......] - ETA: 0s - loss: 1.1414 - accuracy: 0.5956\n",
      "Epoch 96: saving model to model/handsign_classifier-model.hdf5\n",
      "88/88 [==============================] - 0s 2ms/step - loss: 1.1424 - accuracy: 0.5948 - val_loss: 0.5924 - val_accuracy: 0.8712\n",
      "Epoch 97/1000\n",
      "71/88 [=======================>......] - ETA: 0s - loss: 1.1147 - accuracy: 0.6048\n",
      "Epoch 97: saving model to model/handsign_classifier-model.hdf5\n",
      "88/88 [==============================] - 0s 2ms/step - loss: 1.1126 - accuracy: 0.6060 - val_loss: 0.5824 - val_accuracy: 0.8667\n",
      "Epoch 98/1000\n",
      "68/88 [======================>.......] - ETA: 0s - loss: 1.1143 - accuracy: 0.6085\n",
      "Epoch 98: saving model to model/handsign_classifier-model.hdf5\n",
      "88/88 [==============================] - 0s 2ms/step - loss: 1.1204 - accuracy: 0.6065 - val_loss: 0.5729 - val_accuracy: 0.8843\n",
      "Epoch 99/1000\n",
      "67/88 [=====================>........] - ETA: 0s - loss: 1.1513 - accuracy: 0.5978\n",
      "Epoch 99: saving model to model/handsign_classifier-model.hdf5\n",
      "88/88 [==============================] - 0s 2ms/step - loss: 1.1468 - accuracy: 0.5988 - val_loss: 0.5874 - val_accuracy: 0.8627\n",
      "Epoch 100/1000\n",
      "73/88 [=======================>......] - ETA: 0s - loss: 1.1239 - accuracy: 0.6009\n",
      "Epoch 100: saving model to model/handsign_classifier-model.hdf5\n",
      "88/88 [==============================] - 0s 2ms/step - loss: 1.1324 - accuracy: 0.5971 - val_loss: 0.5739 - val_accuracy: 0.8843\n",
      "Epoch 101/1000\n",
      "73/88 [=======================>......] - ETA: 0s - loss: 1.1276 - accuracy: 0.5978\n",
      "Epoch 101: saving model to model/handsign_classifier-model.hdf5\n",
      "88/88 [==============================] - 0s 2ms/step - loss: 1.1181 - accuracy: 0.6024 - val_loss: 0.5801 - val_accuracy: 0.8531\n",
      "Epoch 102/1000\n",
      "66/88 [=====================>........] - ETA: 0s - loss: 1.1182 - accuracy: 0.6018\n",
      "Epoch 102: saving model to model/handsign_classifier-model.hdf5\n",
      "88/88 [==============================] - 0s 2ms/step - loss: 1.1202 - accuracy: 0.6007 - val_loss: 0.5823 - val_accuracy: 0.8533\n",
      "Epoch 103/1000\n",
      "70/88 [======================>.......] - ETA: 0s - loss: 1.1028 - accuracy: 0.6026\n",
      "Epoch 103: saving model to model/handsign_classifier-model.hdf5\n",
      "88/88 [==============================] - 0s 2ms/step - loss: 1.1019 - accuracy: 0.6026 - val_loss: 0.5804 - val_accuracy: 0.8539\n",
      "Epoch 104/1000\n",
      "73/88 [=======================>......] - ETA: 0s - loss: 1.0970 - accuracy: 0.6073\n",
      "Epoch 104: saving model to model/handsign_classifier-model.hdf5\n",
      "88/88 [==============================] - 0s 2ms/step - loss: 1.1014 - accuracy: 0.6057 - val_loss: 0.5709 - val_accuracy: 0.8856\n",
      "Epoch 105/1000\n",
      "72/88 [=======================>......] - ETA: 0s - loss: 1.0993 - accuracy: 0.6068\n",
      "Epoch 105: saving model to model/handsign_classifier-model.hdf5\n",
      "88/88 [==============================] - 0s 2ms/step - loss: 1.1011 - accuracy: 0.6063 - val_loss: 0.5727 - val_accuracy: 0.8901\n",
      "Epoch 106/1000\n",
      "64/88 [====================>.........] - ETA: 0s - loss: 1.0875 - accuracy: 0.6161\n",
      "Epoch 106: saving model to model/handsign_classifier-model.hdf5\n",
      "88/88 [==============================] - 0s 2ms/step - loss: 1.0849 - accuracy: 0.6147 - val_loss: 0.5554 - val_accuracy: 0.8848\n",
      "Epoch 107/1000\n",
      "62/88 [====================>.........] - ETA: 0s - loss: 1.0914 - accuracy: 0.6169\n",
      "Epoch 107: saving model to model/handsign_classifier-model.hdf5\n",
      "88/88 [==============================] - 0s 2ms/step - loss: 1.0815 - accuracy: 0.6183 - val_loss: 0.5553 - val_accuracy: 0.9064\n",
      "Epoch 108/1000\n",
      "70/88 [======================>.......] - ETA: 0s - loss: 1.1034 - accuracy: 0.6064\n",
      "Epoch 108: saving model to model/handsign_classifier-model.hdf5\n",
      "88/88 [==============================] - 0s 2ms/step - loss: 1.1068 - accuracy: 0.6049 - val_loss: 0.5659 - val_accuracy: 0.8688\n",
      "Epoch 109/1000\n",
      "69/88 [======================>.......] - ETA: 0s - loss: 1.1086 - accuracy: 0.6135\n",
      "Epoch 109: saving model to model/handsign_classifier-model.hdf5\n",
      "88/88 [==============================] - 0s 2ms/step - loss: 1.1043 - accuracy: 0.6150 - val_loss: 0.5467 - val_accuracy: 0.8853\n",
      "Epoch 110/1000\n",
      "69/88 [======================>.......] - ETA: 0s - loss: 1.0701 - accuracy: 0.6276\n",
      "Epoch 110: saving model to model/handsign_classifier-model.hdf5\n",
      "88/88 [==============================] - 0s 2ms/step - loss: 1.0731 - accuracy: 0.6248 - val_loss: 0.5647 - val_accuracy: 0.8947\n",
      "Epoch 111/1000\n",
      "73/88 [=======================>......] - ETA: 0s - loss: 1.0936 - accuracy: 0.6114\n",
      "Epoch 111: saving model to model/handsign_classifier-model.hdf5\n",
      "88/88 [==============================] - 0s 2ms/step - loss: 1.0893 - accuracy: 0.6116 - val_loss: 0.5608 - val_accuracy: 0.8699\n",
      "Epoch 112/1000\n",
      "61/88 [===================>..........] - ETA: 0s - loss: 1.0888 - accuracy: 0.6132\n",
      "Epoch 112: saving model to model/handsign_classifier-model.hdf5\n",
      "88/88 [==============================] - 0s 3ms/step - loss: 1.0829 - accuracy: 0.6138 - val_loss: 0.5542 - val_accuracy: 0.9133\n",
      "Epoch 113/1000\n",
      "71/88 [=======================>......] - ETA: 0s - loss: 1.0610 - accuracy: 0.6198\n",
      "Epoch 113: saving model to model/handsign_classifier-model.hdf5\n",
      "88/88 [==============================] - 0s 2ms/step - loss: 1.0646 - accuracy: 0.6182 - val_loss: 0.5486 - val_accuracy: 0.8875\n",
      "Epoch 114/1000\n",
      "69/88 [======================>.......] - ETA: 0s - loss: 1.0889 - accuracy: 0.6173\n",
      "Epoch 114: saving model to model/handsign_classifier-model.hdf5\n",
      "88/88 [==============================] - 0s 2ms/step - loss: 1.0903 - accuracy: 0.6141 - val_loss: 0.5575 - val_accuracy: 0.8875\n"
     ]
    },
    {
     "name": "stdout",
     "output_type": "stream",
     "text": [
      "Epoch 115/1000\n",
      "70/88 [======================>.......] - ETA: 0s - loss: 1.0752 - accuracy: 0.6204\n",
      "Epoch 115: saving model to model/handsign_classifier-model.hdf5\n",
      "88/88 [==============================] - 0s 2ms/step - loss: 1.0754 - accuracy: 0.6216 - val_loss: 0.5314 - val_accuracy: 0.8987\n",
      "Epoch 116/1000\n",
      "71/88 [=======================>......] - ETA: 0s - loss: 1.0670 - accuracy: 0.6156\n",
      "Epoch 116: saving model to model/handsign_classifier-model.hdf5\n",
      "88/88 [==============================] - 0s 2ms/step - loss: 1.0683 - accuracy: 0.6169 - val_loss: 0.5292 - val_accuracy: 0.9285\n",
      "Epoch 117/1000\n",
      "70/88 [======================>.......] - ETA: 0s - loss: 1.0938 - accuracy: 0.6155\n",
      "Epoch 117: saving model to model/handsign_classifier-model.hdf5\n",
      "88/88 [==============================] - 0s 2ms/step - loss: 1.0965 - accuracy: 0.6121 - val_loss: 0.5479 - val_accuracy: 0.9024\n",
      "Epoch 118/1000\n",
      "71/88 [=======================>......] - ETA: 0s - loss: 1.0722 - accuracy: 0.6166\n",
      "Epoch 118: saving model to model/handsign_classifier-model.hdf5\n",
      "88/88 [==============================] - 0s 2ms/step - loss: 1.0763 - accuracy: 0.6164 - val_loss: 0.5474 - val_accuracy: 0.9179\n",
      "Epoch 119/1000\n",
      "67/88 [=====================>........] - ETA: 0s - loss: 1.0544 - accuracy: 0.6195\n",
      "Epoch 119: saving model to model/handsign_classifier-model.hdf5\n",
      "88/88 [==============================] - 0s 2ms/step - loss: 1.0619 - accuracy: 0.6186 - val_loss: 0.5405 - val_accuracy: 0.8909\n",
      "Epoch 120/1000\n",
      "72/88 [=======================>......] - ETA: 0s - loss: 1.0704 - accuracy: 0.6264\n",
      "Epoch 120: saving model to model/handsign_classifier-model.hdf5\n",
      "88/88 [==============================] - 0s 2ms/step - loss: 1.0686 - accuracy: 0.6245 - val_loss: 0.5270 - val_accuracy: 0.9280\n",
      "Epoch 121/1000\n",
      "73/88 [=======================>......] - ETA: 0s - loss: 1.0687 - accuracy: 0.6276\n",
      "Epoch 121: saving model to model/handsign_classifier-model.hdf5\n",
      "88/88 [==============================] - 0s 2ms/step - loss: 1.0729 - accuracy: 0.6241 - val_loss: 0.5303 - val_accuracy: 0.8957\n",
      "Epoch 122/1000\n",
      "74/88 [========================>.....] - ETA: 0s - loss: 1.0764 - accuracy: 0.6217\n",
      "Epoch 122: saving model to model/handsign_classifier-model.hdf5\n",
      "88/88 [==============================] - 0s 2ms/step - loss: 1.0705 - accuracy: 0.6243 - val_loss: 0.5441 - val_accuracy: 0.9035\n",
      "Epoch 123/1000\n",
      "73/88 [=======================>......] - ETA: 0s - loss: 1.0564 - accuracy: 0.6221\n",
      "Epoch 123: saving model to model/handsign_classifier-model.hdf5\n",
      "88/88 [==============================] - 0s 2ms/step - loss: 1.0636 - accuracy: 0.6204 - val_loss: 0.5303 - val_accuracy: 0.9035\n",
      "Epoch 124/1000\n",
      "73/88 [=======================>......] - ETA: 0s - loss: 1.0693 - accuracy: 0.6228\n",
      "Epoch 124: saving model to model/handsign_classifier-model.hdf5\n",
      "88/88 [==============================] - 0s 2ms/step - loss: 1.0673 - accuracy: 0.6225 - val_loss: 0.5391 - val_accuracy: 0.8864\n",
      "Epoch 125/1000\n",
      "75/88 [========================>.....] - ETA: 0s - loss: 1.0714 - accuracy: 0.6205\n",
      "Epoch 125: saving model to model/handsign_classifier-model.hdf5\n",
      "88/88 [==============================] - 0s 2ms/step - loss: 1.0719 - accuracy: 0.6200 - val_loss: 0.5350 - val_accuracy: 0.9011\n",
      "Epoch 126/1000\n",
      "72/88 [=======================>......] - ETA: 0s - loss: 1.0612 - accuracy: 0.6217\n",
      "Epoch 126: saving model to model/handsign_classifier-model.hdf5\n",
      "88/88 [==============================] - 0s 2ms/step - loss: 1.0597 - accuracy: 0.6239 - val_loss: 0.5322 - val_accuracy: 0.9149\n",
      "Epoch 127/1000\n",
      "71/88 [=======================>......] - ETA: 0s - loss: 1.0486 - accuracy: 0.6256\n",
      "Epoch 127: saving model to model/handsign_classifier-model.hdf5\n",
      "88/88 [==============================] - 0s 2ms/step - loss: 1.0479 - accuracy: 0.6280 - val_loss: 0.5398 - val_accuracy: 0.9013\n",
      "Epoch 128/1000\n",
      "68/88 [======================>.......] - ETA: 0s - loss: 1.0624 - accuracy: 0.6303\n",
      "Epoch 128: saving model to model/handsign_classifier-model.hdf5\n",
      "88/88 [==============================] - 0s 2ms/step - loss: 1.0641 - accuracy: 0.6267 - val_loss: 0.5396 - val_accuracy: 0.8784\n",
      "Epoch 129/1000\n",
      "71/88 [=======================>......] - ETA: 0s - loss: 1.0679 - accuracy: 0.6248\n",
      "Epoch 129: saving model to model/handsign_classifier-model.hdf5\n",
      "88/88 [==============================] - 0s 2ms/step - loss: 1.0628 - accuracy: 0.6273 - val_loss: 0.5406 - val_accuracy: 0.9195\n",
      "Epoch 130/1000\n",
      "71/88 [=======================>......] - ETA: 0s - loss: 1.0587 - accuracy: 0.6214\n",
      "Epoch 130: saving model to model/handsign_classifier-model.hdf5\n",
      "88/88 [==============================] - 0s 2ms/step - loss: 1.0547 - accuracy: 0.6229 - val_loss: 0.5320 - val_accuracy: 0.9139\n",
      "Epoch 131/1000\n",
      "73/88 [=======================>......] - ETA: 0s - loss: 1.0540 - accuracy: 0.6251\n",
      "Epoch 131: saving model to model/handsign_classifier-model.hdf5\n",
      "88/88 [==============================] - 0s 2ms/step - loss: 1.0568 - accuracy: 0.6243 - val_loss: 0.5339 - val_accuracy: 0.9043\n",
      "Epoch 132/1000\n",
      "73/88 [=======================>......] - ETA: 0s - loss: 1.0572 - accuracy: 0.6286\n",
      "Epoch 132: saving model to model/handsign_classifier-model.hdf5\n",
      "88/88 [==============================] - 0s 2ms/step - loss: 1.0588 - accuracy: 0.6277 - val_loss: 0.5423 - val_accuracy: 0.8939\n",
      "Epoch 133/1000\n",
      "73/88 [=======================>......] - ETA: 0s - loss: 1.0512 - accuracy: 0.6230\n",
      "Epoch 133: saving model to model/handsign_classifier-model.hdf5\n",
      "88/88 [==============================] - 0s 2ms/step - loss: 1.0440 - accuracy: 0.6249 - val_loss: 0.5221 - val_accuracy: 0.9131\n",
      "Epoch 134/1000\n",
      "69/88 [======================>.......] - ETA: 0s - loss: 1.0575 - accuracy: 0.6256\n",
      "Epoch 134: saving model to model/handsign_classifier-model.hdf5\n",
      "88/88 [==============================] - 0s 2ms/step - loss: 1.0535 - accuracy: 0.6259 - val_loss: 0.5484 - val_accuracy: 0.9128\n",
      "Epoch 135/1000\n",
      "70/88 [======================>.......] - ETA: 0s - loss: 1.0374 - accuracy: 0.6298\n",
      "Epoch 135: saving model to model/handsign_classifier-model.hdf5\n",
      "88/88 [==============================] - 0s 2ms/step - loss: 1.0381 - accuracy: 0.6316 - val_loss: 0.5283 - val_accuracy: 0.9144\n",
      "Epoch 136/1000\n",
      "71/88 [=======================>......] - ETA: 0s - loss: 1.0578 - accuracy: 0.6275\n",
      "Epoch 136: saving model to model/handsign_classifier-model.hdf5\n",
      "88/88 [==============================] - 0s 2ms/step - loss: 1.0610 - accuracy: 0.6251 - val_loss: 0.5196 - val_accuracy: 0.9296\n",
      "Epoch 137/1000\n",
      "69/88 [======================>.......] - ETA: 0s - loss: 1.0374 - accuracy: 0.6328\n",
      "Epoch 137: saving model to model/handsign_classifier-model.hdf5\n",
      "88/88 [==============================] - 0s 2ms/step - loss: 1.0379 - accuracy: 0.6347 - val_loss: 0.5239 - val_accuracy: 0.9099\n",
      "Epoch 138/1000\n",
      "72/88 [=======================>......] - ETA: 0s - loss: 1.0520 - accuracy: 0.6238\n",
      "Epoch 138: saving model to model/handsign_classifier-model.hdf5\n",
      "88/88 [==============================] - 0s 2ms/step - loss: 1.0540 - accuracy: 0.6236 - val_loss: 0.5416 - val_accuracy: 0.8995\n",
      "Epoch 139/1000\n",
      "69/88 [======================>.......] - ETA: 0s - loss: 1.0294 - accuracy: 0.6307\n",
      "Epoch 139: saving model to model/handsign_classifier-model.hdf5\n",
      "88/88 [==============================] - 0s 2ms/step - loss: 1.0284 - accuracy: 0.6328 - val_loss: 0.5211 - val_accuracy: 0.8923\n",
      "Epoch 140/1000\n",
      "68/88 [======================>.......] - ETA: 0s - loss: 1.0466 - accuracy: 0.6299\n",
      "Epoch 140: saving model to model/handsign_classifier-model.hdf5\n",
      "88/88 [==============================] - 0s 2ms/step - loss: 1.0438 - accuracy: 0.6304 - val_loss: 0.5204 - val_accuracy: 0.9200\n",
      "Epoch 141/1000\n",
      "69/88 [======================>.......] - ETA: 0s - loss: 1.0394 - accuracy: 0.6242\n",
      "Epoch 141: saving model to model/handsign_classifier-model.hdf5\n",
      "88/88 [==============================] - 0s 2ms/step - loss: 1.0390 - accuracy: 0.6230 - val_loss: 0.5256 - val_accuracy: 0.9181\n",
      "Epoch 142/1000\n",
      "65/88 [=====================>........] - ETA: 0s - loss: 1.0295 - accuracy: 0.6279\n",
      "Epoch 142: saving model to model/handsign_classifier-model.hdf5\n",
      "88/88 [==============================] - 0s 2ms/step - loss: 1.0339 - accuracy: 0.6288 - val_loss: 0.5253 - val_accuracy: 0.9011\n",
      "Epoch 143/1000\n"
     ]
    },
    {
     "name": "stdout",
     "output_type": "stream",
     "text": [
      "70/88 [======================>.......] - ETA: 0s - loss: 1.0203 - accuracy: 0.6340\n",
      "Epoch 143: saving model to model/handsign_classifier-model.hdf5\n",
      "88/88 [==============================] - 0s 2ms/step - loss: 1.0252 - accuracy: 0.6334 - val_loss: 0.5184 - val_accuracy: 0.9149\n",
      "Epoch 144/1000\n",
      "74/88 [========================>.....] - ETA: 0s - loss: 1.0232 - accuracy: 0.6387\n",
      "Epoch 144: saving model to model/handsign_classifier-model.hdf5\n",
      "88/88 [==============================] - 0s 2ms/step - loss: 1.0215 - accuracy: 0.6365 - val_loss: 0.5312 - val_accuracy: 0.8899\n",
      "Epoch 145/1000\n",
      "75/88 [========================>.....] - ETA: 0s - loss: 1.0256 - accuracy: 0.6291\n",
      "Epoch 145: saving model to model/handsign_classifier-model.hdf5\n",
      "88/88 [==============================] - 0s 2ms/step - loss: 1.0265 - accuracy: 0.6301 - val_loss: 0.5169 - val_accuracy: 0.9088\n",
      "Epoch 146/1000\n",
      "72/88 [=======================>......] - ETA: 0s - loss: 1.0459 - accuracy: 0.6299\n",
      "Epoch 146: saving model to model/handsign_classifier-model.hdf5\n",
      "88/88 [==============================] - 0s 2ms/step - loss: 1.0437 - accuracy: 0.6297 - val_loss: 0.5263 - val_accuracy: 0.8789\n",
      "Epoch 147/1000\n",
      "71/88 [=======================>......] - ETA: 0s - loss: 1.0161 - accuracy: 0.6377\n",
      "Epoch 147: saving model to model/handsign_classifier-model.hdf5\n",
      "88/88 [==============================] - 0s 2ms/step - loss: 1.0240 - accuracy: 0.6364 - val_loss: 0.5068 - val_accuracy: 0.9043\n",
      "Epoch 148/1000\n",
      "73/88 [=======================>......] - ETA: 0s - loss: 1.0354 - accuracy: 0.6322\n",
      "Epoch 148: saving model to model/handsign_classifier-model.hdf5\n",
      "88/88 [==============================] - 0s 2ms/step - loss: 1.0353 - accuracy: 0.6327 - val_loss: 0.5149 - val_accuracy: 0.8989\n",
      "Epoch 149/1000\n",
      "74/88 [========================>.....] - ETA: 0s - loss: 1.0209 - accuracy: 0.6346\n",
      "Epoch 149: saving model to model/handsign_classifier-model.hdf5\n",
      "88/88 [==============================] - 0s 2ms/step - loss: 1.0205 - accuracy: 0.6351 - val_loss: 0.5186 - val_accuracy: 0.9013\n",
      "Epoch 150/1000\n",
      "71/88 [=======================>......] - ETA: 0s - loss: 1.0133 - accuracy: 0.6448\n",
      "Epoch 150: saving model to model/handsign_classifier-model.hdf5\n",
      "88/88 [==============================] - 0s 2ms/step - loss: 1.0143 - accuracy: 0.6451 - val_loss: 0.5234 - val_accuracy: 0.8832\n",
      "Epoch 151/1000\n",
      "68/88 [======================>.......] - ETA: 0s - loss: 1.0256 - accuracy: 0.6375\n",
      "Epoch 151: saving model to model/handsign_classifier-model.hdf5\n",
      "88/88 [==============================] - 0s 2ms/step - loss: 1.0328 - accuracy: 0.6354 - val_loss: 0.4991 - val_accuracy: 0.9141\n",
      "Epoch 152/1000\n",
      "71/88 [=======================>......] - ETA: 0s - loss: 1.0218 - accuracy: 0.6338\n",
      "Epoch 152: saving model to model/handsign_classifier-model.hdf5\n",
      "88/88 [==============================] - 0s 2ms/step - loss: 1.0214 - accuracy: 0.6344 - val_loss: 0.5032 - val_accuracy: 0.8909\n",
      "Epoch 153/1000\n",
      "72/88 [=======================>......] - ETA: 0s - loss: 1.0201 - accuracy: 0.6405\n",
      "Epoch 153: saving model to model/handsign_classifier-model.hdf5\n",
      "88/88 [==============================] - 0s 2ms/step - loss: 1.0249 - accuracy: 0.6349 - val_loss: 0.5054 - val_accuracy: 0.9008\n",
      "Epoch 154/1000\n",
      "70/88 [======================>.......] - ETA: 0s - loss: 1.0321 - accuracy: 0.6308\n",
      "Epoch 154: saving model to model/handsign_classifier-model.hdf5\n",
      "88/88 [==============================] - 0s 2ms/step - loss: 1.0317 - accuracy: 0.6303 - val_loss: 0.5174 - val_accuracy: 0.8661\n",
      "Epoch 155/1000\n",
      "69/88 [======================>.......] - ETA: 0s - loss: 1.0017 - accuracy: 0.6462\n",
      "Epoch 155: saving model to model/handsign_classifier-model.hdf5\n",
      "88/88 [==============================] - 0s 2ms/step - loss: 1.0032 - accuracy: 0.6448 - val_loss: 0.5053 - val_accuracy: 0.9104\n",
      "Epoch 156/1000\n",
      "69/88 [======================>.......] - ETA: 0s - loss: 1.0152 - accuracy: 0.6372\n",
      "Epoch 156: saving model to model/handsign_classifier-model.hdf5\n",
      "88/88 [==============================] - 0s 2ms/step - loss: 1.0041 - accuracy: 0.6428 - val_loss: 0.5021 - val_accuracy: 0.9056\n",
      "Epoch 157/1000\n",
      "71/88 [=======================>......] - ETA: 0s - loss: 1.0116 - accuracy: 0.6474\n",
      "Epoch 157: saving model to model/handsign_classifier-model.hdf5\n",
      "88/88 [==============================] - 0s 2ms/step - loss: 1.0143 - accuracy: 0.6454 - val_loss: 0.5086 - val_accuracy: 0.8928\n",
      "Epoch 158/1000\n",
      "71/88 [=======================>......] - ETA: 0s - loss: 1.0154 - accuracy: 0.6359\n",
      "Epoch 158: saving model to model/handsign_classifier-model.hdf5\n",
      "88/88 [==============================] - 0s 3ms/step - loss: 1.0191 - accuracy: 0.6368 - val_loss: 0.5087 - val_accuracy: 0.8875\n",
      "Epoch 159/1000\n",
      "70/88 [======================>.......] - ETA: 0s - loss: 1.0061 - accuracy: 0.6456\n",
      "Epoch 159: saving model to model/handsign_classifier-model.hdf5\n",
      "88/88 [==============================] - 0s 2ms/step - loss: 1.0045 - accuracy: 0.6455 - val_loss: 0.5031 - val_accuracy: 0.9112\n",
      "Epoch 160/1000\n",
      "70/88 [======================>.......] - ETA: 0s - loss: 0.9850 - accuracy: 0.6458\n",
      "Epoch 160: saving model to model/handsign_classifier-model.hdf5\n",
      "88/88 [==============================] - 0s 2ms/step - loss: 0.9923 - accuracy: 0.6428 - val_loss: 0.5062 - val_accuracy: 0.9045\n",
      "Epoch 161/1000\n",
      "69/88 [======================>.......] - ETA: 0s - loss: 1.0344 - accuracy: 0.6329\n",
      "Epoch 161: saving model to model/handsign_classifier-model.hdf5\n",
      "88/88 [==============================] - 0s 2ms/step - loss: 1.0259 - accuracy: 0.6349 - val_loss: 0.5095 - val_accuracy: 0.8976\n",
      "Epoch 162/1000\n",
      "68/88 [======================>.......] - ETA: 0s - loss: 1.0143 - accuracy: 0.6358\n",
      "Epoch 162: saving model to model/handsign_classifier-model.hdf5\n",
      "88/88 [==============================] - 0s 2ms/step - loss: 1.0164 - accuracy: 0.6364 - val_loss: 0.5090 - val_accuracy: 0.9181\n",
      "Epoch 163/1000\n",
      "71/88 [=======================>......] - ETA: 0s - loss: 1.0092 - accuracy: 0.6405\n",
      "Epoch 163: saving model to model/handsign_classifier-model.hdf5\n",
      "88/88 [==============================] - 0s 2ms/step - loss: 1.0110 - accuracy: 0.6388 - val_loss: 0.5133 - val_accuracy: 0.9101\n",
      "Epoch 164/1000\n",
      "70/88 [======================>.......] - ETA: 0s - loss: 0.9921 - accuracy: 0.6481\n",
      "Epoch 164: saving model to model/handsign_classifier-model.hdf5\n",
      "88/88 [==============================] - 0s 2ms/step - loss: 0.9897 - accuracy: 0.6477 - val_loss: 0.4856 - val_accuracy: 0.9181\n",
      "Epoch 165/1000\n",
      "70/88 [======================>.......] - ETA: 0s - loss: 1.0122 - accuracy: 0.6397\n",
      "Epoch 165: saving model to model/handsign_classifier-model.hdf5\n",
      "88/88 [==============================] - 0s 2ms/step - loss: 1.0210 - accuracy: 0.6351 - val_loss: 0.5163 - val_accuracy: 0.9003\n",
      "Epoch 166/1000\n",
      "63/88 [====================>.........] - ETA: 0s - loss: 1.0070 - accuracy: 0.6344\n",
      "Epoch 166: saving model to model/handsign_classifier-model.hdf5\n",
      "88/88 [==============================] - 0s 2ms/step - loss: 1.0126 - accuracy: 0.6362 - val_loss: 0.5101 - val_accuracy: 0.9016\n",
      "Epoch 167/1000\n",
      "69/88 [======================>.......] - ETA: 0s - loss: 1.0001 - accuracy: 0.6429\n",
      "Epoch 167: saving model to model/handsign_classifier-model.hdf5\n",
      "88/88 [==============================] - 0s 2ms/step - loss: 1.0057 - accuracy: 0.6401 - val_loss: 0.4987 - val_accuracy: 0.9357\n",
      "Epoch 168/1000\n",
      "70/88 [======================>.......] - ETA: 0s - loss: 0.9990 - accuracy: 0.6386\n",
      "Epoch 168: saving model to model/handsign_classifier-model.hdf5\n",
      "88/88 [==============================] - 0s 2ms/step - loss: 1.0008 - accuracy: 0.6388 - val_loss: 0.5030 - val_accuracy: 0.9197\n",
      "Epoch 169/1000\n",
      "71/88 [=======================>......] - ETA: 0s - loss: 0.9915 - accuracy: 0.6502\n",
      "Epoch 169: saving model to model/handsign_classifier-model.hdf5\n",
      "88/88 [==============================] - 0s 2ms/step - loss: 0.9883 - accuracy: 0.6500 - val_loss: 0.5067 - val_accuracy: 0.9197\n",
      "Epoch 170/1000\n",
      "69/88 [======================>.......] - ETA: 0s - loss: 0.9906 - accuracy: 0.6447\n",
      "Epoch 170: saving model to model/handsign_classifier-model.hdf5\n",
      "88/88 [==============================] - 0s 2ms/step - loss: 0.9897 - accuracy: 0.6446 - val_loss: 0.4882 - val_accuracy: 0.9283\n",
      "Epoch 171/1000\n"
     ]
    },
    {
     "name": "stdout",
     "output_type": "stream",
     "text": [
      "71/88 [=======================>......] - ETA: 0s - loss: 1.0075 - accuracy: 0.6454\n",
      "Epoch 171: saving model to model/handsign_classifier-model.hdf5\n",
      "88/88 [==============================] - 0s 2ms/step - loss: 1.0058 - accuracy: 0.6442 - val_loss: 0.4974 - val_accuracy: 0.8859\n",
      "Epoch 172/1000\n",
      "74/88 [========================>.....] - ETA: 0s - loss: 1.0035 - accuracy: 0.6420\n",
      "Epoch 172: saving model to model/handsign_classifier-model.hdf5\n",
      "88/88 [==============================] - 0s 3ms/step - loss: 1.0012 - accuracy: 0.6420 - val_loss: 0.5037 - val_accuracy: 0.9072\n",
      "Epoch 173/1000\n",
      "68/88 [======================>.......] - ETA: 0s - loss: 1.0018 - accuracy: 0.6423\n",
      "Epoch 173: saving model to model/handsign_classifier-model.hdf5\n",
      "88/88 [==============================] - 0s 2ms/step - loss: 1.0039 - accuracy: 0.6422 - val_loss: 0.5038 - val_accuracy: 0.9091\n",
      "Epoch 174/1000\n",
      "75/88 [========================>.....] - ETA: 0s - loss: 0.9858 - accuracy: 0.6499\n",
      "Epoch 174: saving model to model/handsign_classifier-model.hdf5\n",
      "88/88 [==============================] - 0s 2ms/step - loss: 0.9849 - accuracy: 0.6496 - val_loss: 0.5088 - val_accuracy: 0.9000\n",
      "Epoch 175/1000\n",
      "72/88 [=======================>......] - ETA: 0s - loss: 0.9871 - accuracy: 0.6467\n",
      "Epoch 175: saving model to model/handsign_classifier-model.hdf5\n",
      "88/88 [==============================] - 0s 2ms/step - loss: 0.9898 - accuracy: 0.6462 - val_loss: 0.4976 - val_accuracy: 0.9059\n",
      "Epoch 176/1000\n",
      "74/88 [========================>.....] - ETA: 0s - loss: 1.0027 - accuracy: 0.6387\n",
      "Epoch 176: saving model to model/handsign_classifier-model.hdf5\n",
      "88/88 [==============================] - 0s 2ms/step - loss: 0.9999 - accuracy: 0.6391 - val_loss: 0.5121 - val_accuracy: 0.9173\n",
      "Epoch 177/1000\n",
      "70/88 [======================>.......] - ETA: 0s - loss: 0.9974 - accuracy: 0.6388\n",
      "Epoch 177: saving model to model/handsign_classifier-model.hdf5\n",
      "88/88 [==============================] - 0s 2ms/step - loss: 0.9857 - accuracy: 0.6430 - val_loss: 0.4993 - val_accuracy: 0.9293\n",
      "Epoch 178/1000\n",
      "70/88 [======================>.......] - ETA: 0s - loss: 1.0055 - accuracy: 0.6360\n",
      "Epoch 178: saving model to model/handsign_classifier-model.hdf5\n",
      "88/88 [==============================] - 0s 2ms/step - loss: 0.9956 - accuracy: 0.6395 - val_loss: 0.4952 - val_accuracy: 0.9213\n",
      "Epoch 179/1000\n",
      "74/88 [========================>.....] - ETA: 0s - loss: 0.9809 - accuracy: 0.6441\n",
      "Epoch 179: saving model to model/handsign_classifier-model.hdf5\n",
      "88/88 [==============================] - 0s 2ms/step - loss: 0.9825 - accuracy: 0.6460 - val_loss: 0.4838 - val_accuracy: 0.9045\n",
      "Epoch 180/1000\n",
      "68/88 [======================>.......] - ETA: 0s - loss: 1.0040 - accuracy: 0.6449\n",
      "Epoch 180: saving model to model/handsign_classifier-model.hdf5\n",
      "88/88 [==============================] - 0s 2ms/step - loss: 0.9958 - accuracy: 0.6471 - val_loss: 0.4971 - val_accuracy: 0.8800\n",
      "Epoch 181/1000\n",
      "72/88 [=======================>......] - ETA: 0s - loss: 0.9922 - accuracy: 0.6455\n",
      "Epoch 181: saving model to model/handsign_classifier-model.hdf5\n",
      "88/88 [==============================] - 0s 2ms/step - loss: 0.9868 - accuracy: 0.6466 - val_loss: 0.5197 - val_accuracy: 0.8968\n",
      "Epoch 182/1000\n",
      "72/88 [=======================>......] - ETA: 0s - loss: 0.9848 - accuracy: 0.6480\n",
      "Epoch 182: saving model to model/handsign_classifier-model.hdf5\n",
      "88/88 [==============================] - 0s 2ms/step - loss: 0.9857 - accuracy: 0.6476 - val_loss: 0.5062 - val_accuracy: 0.9061\n",
      "Epoch 183/1000\n",
      "69/88 [======================>.......] - ETA: 0s - loss: 0.9829 - accuracy: 0.6415\n",
      "Epoch 183: saving model to model/handsign_classifier-model.hdf5\n",
      "88/88 [==============================] - 0s 2ms/step - loss: 0.9817 - accuracy: 0.6415 - val_loss: 0.5028 - val_accuracy: 0.9176\n",
      "Epoch 184/1000\n",
      "71/88 [=======================>......] - ETA: 0s - loss: 0.9848 - accuracy: 0.6458\n",
      "Epoch 184: saving model to model/handsign_classifier-model.hdf5\n",
      "88/88 [==============================] - 0s 2ms/step - loss: 0.9899 - accuracy: 0.6443 - val_loss: 0.5011 - val_accuracy: 0.9128\n",
      "Epoch 185/1000\n",
      "68/88 [======================>.......] - ETA: 0s - loss: 0.9957 - accuracy: 0.6451\n",
      "Epoch 185: saving model to model/handsign_classifier-model.hdf5\n",
      "88/88 [==============================] - 0s 2ms/step - loss: 0.9961 - accuracy: 0.6436 - val_loss: 0.5001 - val_accuracy: 0.9149\n",
      "Epoch 186/1000\n",
      "73/88 [=======================>......] - ETA: 0s - loss: 0.9820 - accuracy: 0.6493\n",
      "Epoch 186: saving model to model/handsign_classifier-model.hdf5\n",
      "88/88 [==============================] - 0s 2ms/step - loss: 0.9848 - accuracy: 0.6489 - val_loss: 0.5100 - val_accuracy: 0.8784\n",
      "Epoch 187/1000\n",
      "70/88 [======================>.......] - ETA: 0s - loss: 0.9836 - accuracy: 0.6481\n",
      "Epoch 187: saving model to model/handsign_classifier-model.hdf5\n",
      "88/88 [==============================] - 0s 2ms/step - loss: 0.9846 - accuracy: 0.6477 - val_loss: 0.5078 - val_accuracy: 0.9024\n",
      "Epoch 188/1000\n",
      "69/88 [======================>.......] - ETA: 0s - loss: 0.9625 - accuracy: 0.6507\n",
      "Epoch 188: saving model to model/handsign_classifier-model.hdf5\n",
      "88/88 [==============================] - 0s 2ms/step - loss: 0.9632 - accuracy: 0.6523 - val_loss: 0.5057 - val_accuracy: 0.8981\n",
      "Epoch 189/1000\n",
      "70/88 [======================>.......] - ETA: 0s - loss: 0.9813 - accuracy: 0.6461\n",
      "Epoch 189: saving model to model/handsign_classifier-model.hdf5\n",
      "88/88 [==============================] - 0s 2ms/step - loss: 0.9841 - accuracy: 0.6452 - val_loss: 0.5158 - val_accuracy: 0.8893\n",
      "Epoch 190/1000\n",
      "67/88 [=====================>........] - ETA: 0s - loss: 0.9927 - accuracy: 0.6440\n",
      "Epoch 190: saving model to model/handsign_classifier-model.hdf5\n",
      "88/88 [==============================] - 0s 2ms/step - loss: 0.9925 - accuracy: 0.6447 - val_loss: 0.5101 - val_accuracy: 0.9165\n",
      "Epoch 191/1000\n",
      "70/88 [======================>.......] - ETA: 0s - loss: 1.0042 - accuracy: 0.6456\n",
      "Epoch 191: saving model to model/handsign_classifier-model.hdf5\n",
      "88/88 [==============================] - 0s 2ms/step - loss: 1.0012 - accuracy: 0.6452 - val_loss: 0.5091 - val_accuracy: 0.9155\n",
      "Epoch 192/1000\n",
      "63/88 [====================>.........] - ETA: 0s - loss: 0.9891 - accuracy: 0.6484\n",
      "Epoch 192: saving model to model/handsign_classifier-model.hdf5\n",
      "88/88 [==============================] - 0s 2ms/step - loss: 0.9775 - accuracy: 0.6511 - val_loss: 0.4939 - val_accuracy: 0.9213\n",
      "Epoch 193/1000\n",
      "67/88 [=====================>........] - ETA: 0s - loss: 0.9441 - accuracy: 0.6580\n",
      "Epoch 193: saving model to model/handsign_classifier-model.hdf5\n",
      "88/88 [==============================] - 0s 2ms/step - loss: 0.9537 - accuracy: 0.6556 - val_loss: 0.5070 - val_accuracy: 0.9259\n",
      "Epoch 194/1000\n",
      "67/88 [=====================>........] - ETA: 0s - loss: 0.9779 - accuracy: 0.6522\n",
      "Epoch 194: saving model to model/handsign_classifier-model.hdf5\n",
      "88/88 [==============================] - 0s 2ms/step - loss: 0.9816 - accuracy: 0.6532 - val_loss: 0.4985 - val_accuracy: 0.9371\n",
      "Epoch 195/1000\n",
      "68/88 [======================>.......] - ETA: 0s - loss: 0.9788 - accuracy: 0.6499\n",
      "Epoch 195: saving model to model/handsign_classifier-model.hdf5\n",
      "88/88 [==============================] - 0s 2ms/step - loss: 0.9791 - accuracy: 0.6518 - val_loss: 0.5095 - val_accuracy: 0.9285\n",
      "Epoch 196/1000\n",
      "61/88 [===================>..........] - ETA: 0s - loss: 0.9648 - accuracy: 0.6496\n",
      "Epoch 196: saving model to model/handsign_classifier-model.hdf5\n",
      "88/88 [==============================] - 0s 2ms/step - loss: 0.9564 - accuracy: 0.6548 - val_loss: 0.5055 - val_accuracy: 0.8595\n",
      "Epoch 197/1000\n",
      "72/88 [=======================>......] - ETA: 0s - loss: 0.9773 - accuracy: 0.6517\n",
      "Epoch 197: saving model to model/handsign_classifier-model.hdf5\n",
      "88/88 [==============================] - 0s 2ms/step - loss: 0.9798 - accuracy: 0.6497 - val_loss: 0.4998 - val_accuracy: 0.8845\n",
      "Epoch 198/1000\n",
      "72/88 [=======================>......] - ETA: 0s - loss: 0.9658 - accuracy: 0.6532\n",
      "Epoch 198: saving model to model/handsign_classifier-model.hdf5\n",
      "88/88 [==============================] - 0s 2ms/step - loss: 0.9653 - accuracy: 0.6529 - val_loss: 0.5013 - val_accuracy: 0.9219\n",
      "Epoch 199/1000\n"
     ]
    },
    {
     "name": "stdout",
     "output_type": "stream",
     "text": [
      "69/88 [======================>.......] - ETA: 0s - loss: 0.9573 - accuracy: 0.6565\n",
      "Epoch 199: saving model to model/handsign_classifier-model.hdf5\n",
      "88/88 [==============================] - 0s 2ms/step - loss: 0.9610 - accuracy: 0.6558 - val_loss: 0.5073 - val_accuracy: 0.8893\n",
      "Epoch 199: early stopping\n"
     ]
    },
    {
     "data": {
      "text/plain": [
       "<keras.callbacks.History at 0x164850cd0>"
      ]
     },
     "execution_count": 11,
     "metadata": {},
     "output_type": "execute_result"
    }
   ],
   "source": [
    "model.fit(\n",
    "    X_train,\n",
    "    y_train,\n",
    "    epochs=1000,\n",
    "    batch_size=128,\n",
    "    validation_data=(X_test, y_test),\n",
    "    callbacks=[cp_callback, es_callback]\n",
    ")"
   ]
  },
  {
   "cell_type": "code",
   "execution_count": 12,
   "metadata": {
    "colab": {
     "base_uri": "https://localhost:8080/"
    },
    "id": "pxvb2Y299hE3",
    "outputId": "59eb3185-2e37-4b9e-bc9d-ab1b8ac29b7f"
   },
   "outputs": [
    {
     "name": "stdout",
     "output_type": "stream",
     "text": [
      "30/30 [==============================] - 0s 1ms/step - loss: 0.5073 - accuracy: 0.8893\n"
     ]
    }
   ],
   "source": [
    "# Model evaluation\n",
    "val_loss, val_acc = model.evaluate(X_test, y_test, batch_size=128)"
   ]
  },
  {
   "cell_type": "code",
   "execution_count": 13,
   "metadata": {
    "id": "RBkmDeUW9hE4"
   },
   "outputs": [],
   "source": [
    "# Loading the saved model\n",
    "model = tf.keras.models.load_model(model_save_path)"
   ]
  },
  {
   "cell_type": "code",
   "execution_count": 14,
   "metadata": {
    "colab": {
     "base_uri": "https://localhost:8080/"
    },
    "id": "tFz9Tb0I9hE4",
    "outputId": "1c3b3528-54ae-4ee2-ab04-77429211cbef"
   },
   "outputs": [
    {
     "name": "stdout",
     "output_type": "stream",
     "text": [
      "1/1 [==============================] - 0s 158ms/step\n",
      "[3.7167023e-38 0.0000000e+00 0.0000000e+00 0.0000000e+00 1.1877029e-38\n",
      " 0.0000000e+00 0.0000000e+00 0.0000000e+00 1.0936391e-20 2.0262181e-29\n",
      " 0.0000000e+00 4.3902496e-24 4.7333693e-04 1.8990641e-03 1.6166275e-34\n",
      " 3.9020049e-36 0.0000000e+00 0.0000000e+00 0.0000000e+00 0.0000000e+00\n",
      " 9.9762768e-01 0.0000000e+00 0.0000000e+00 1.6086517e-38 8.5184719e-36\n",
      " 0.0000000e+00]\n",
      "20\n"
     ]
    }
   ],
   "source": [
    "# Inference test\n",
    "predict_result = model.predict(np.array([X_test[0]]))\n",
    "print(np.squeeze(predict_result))\n",
    "print(np.argmax(np.squeeze(predict_result)))"
   ]
  },
  {
   "cell_type": "markdown",
   "metadata": {
    "id": "S3U4yNWx9hE4"
   },
   "source": [
    "# Confusion matrix"
   ]
  },
  {
   "cell_type": "code",
   "execution_count": 15,
   "metadata": {
    "colab": {
     "base_uri": "https://localhost:8080/",
     "height": 582
    },
    "id": "AP1V6SCk9hE5",
    "outputId": "08e41a80-7a4a-4619-8125-ecc371368d19"
   },
   "outputs": [
    {
     "name": "stdout",
     "output_type": "stream",
     "text": [
      "118/118 [==============================] - 0s 910us/step\n"
     ]
    },
    {
     "data": {
      "image/png": "[encoded data removed]",
      "text/plain": [
       "<Figure size 700x600 with 2 Axes>"
      ]
     },
     "metadata": {},
     "output_type": "display_data"
    },
    {
     "name": "stdout",
     "output_type": "stream",
     "text": [
      "Classification Report\n",
      "              precision    recall  f1-score   support\n",
      "\n",
      "           0       0.84      1.00      0.91       167\n",
      "           1       1.00      0.67      0.80       138\n",
      "           2       1.00      0.99      0.99       157\n",
      "           3       0.99      0.96      0.97       143\n",
      "           4       1.00      0.79      0.88       155\n",
      "           5       1.00      0.01      0.01       152\n",
      "           6       1.00      1.00      1.00       170\n",
      "           7       1.00      1.00      1.00       143\n",
      "           8       1.00      0.73      0.84       155\n",
      "           9       1.00      1.00      1.00       152\n",
      "          10       1.00      1.00      1.00       143\n",
      "          11       1.00      1.00      1.00       136\n",
      "          12       1.00      1.00      1.00       150\n",
      "          13       0.99      1.00      1.00       157\n",
      "          14       0.97      0.96      0.96       147\n",
      "          15       1.00      1.00      1.00       145\n",
      "          17       0.57      1.00      0.73       150\n",
      "          18       0.83      0.91      0.86       158\n",
      "          19       0.52      1.00      0.69       149\n",
      "          20       1.00      0.99      1.00       150\n",
      "          21       1.00      0.09      0.16       123\n",
      "          22       0.76      1.00      0.86       144\n",
      "          23       0.99      0.99      0.99       147\n",
      "          24       0.80      1.00      0.89       163\n",
      "          25       0.96      1.00      0.98       156\n",
      "\n",
      "    accuracy                           0.89      3750\n",
      "   macro avg       0.93      0.88      0.86      3750\n",
      "weighted avg       0.93      0.89      0.87      3750\n",
      "\n"
     ]
    }
   ],
   "source": [
    "import pandas as pd\n",
    "import seaborn as sns\n",
    "import matplotlib.pyplot as plt\n",
    "from sklearn.metrics import confusion_matrix, classification_report\n",
    "\n",
    "def print_confusion_matrix(y_true, y_pred, report=True):\n",
    "    labels = sorted(list(set(y_true)))\n",
    "    cmx_data = confusion_matrix(y_true, y_pred, labels=labels)\n",
    "    \n",
    "    df_cmx = pd.DataFrame(cmx_data, index=labels, columns=labels)\n",
    " \n",
    "    fig, ax = plt.subplots(figsize=(7, 6))\n",
    "    sns.heatmap(df_cmx, annot=True, fmt='g' ,square=False)\n",
    "    ax.set_ylim(len(set(y_true)), 0)\n",
    "    plt.show()\n",
    "    \n",
    "    if report:\n",
    "        print('Classification Report')\n",
    "        print(classification_report(y_test, y_pred))\n",
    "\n",
    "Y_pred = model.predict(X_test)\n",
    "y_pred = np.argmax(Y_pred, axis=1)\n",
    "\n",
    "print_confusion_matrix(y_test, y_pred)"
   ]
  },
  {
   "cell_type": "markdown",
   "metadata": {
    "id": "FNP6aqzc9hE5"
   },
   "source": [
    "# Convert to model for Tensorflow-Lite"
   ]
  },
  {
   "cell_type": "code",
   "execution_count": 16,
   "metadata": {
    "id": "ODjnYyld9hE6"
   },
   "outputs": [],
   "source": [
    "# Save as a model dedicated to inference\n",
    "model.save(model_save_path, include_optimizer=False)"
   ]
  },
  {
   "cell_type": "code",
   "execution_count": 17,
   "metadata": {
    "colab": {
     "base_uri": "https://localhost:8080/"
    },
    "id": "zRfuK8Y59hE6",
    "outputId": "a4ca585c-b5d5-4244-8291-8674063209bb"
   },
   "outputs": [
    {
     "name": "stderr",
     "output_type": "stream",
     "text": [
      "2023-03-10 22:26:24.950342: I tensorflow/core/common_runtime/executor.cc:1197] [/device:CPU:0] (DEBUG INFO) Executor start aborting (this does not indicate an error and you can ignore this message): INVALID_ARGUMENT: You must feed a value for placeholder tensor 'input_1' with dtype float and shape [?,42]\n",
      "\t [[{{node input_1}}]]\n",
      "2023-03-10 22:26:25.058678: I tensorflow/core/common_runtime/executor.cc:1197] [/device:CPU:0] (DEBUG INFO) Executor start aborting (this does not indicate an error and you can ignore this message): INVALID_ARGUMENT: You must feed a value for placeholder tensor 'inputs' with dtype float and shape [?,42]\n",
      "\t [[{{node inputs}}]]\n",
      "2023-03-10 22:26:25.088038: I tensorflow/core/common_runtime/executor.cc:1197] [/device:CPU:0] (DEBUG INFO) Executor start aborting (this does not indicate an error and you can ignore this message): INVALID_ARGUMENT: You must feed a value for placeholder tensor 'input_1' with dtype float and shape [?,42]\n",
      "\t [[{{node input_1}}]]\n",
      "2023-03-10 22:26:25.135270: I tensorflow/core/common_runtime/executor.cc:1197] [/device:CPU:0] (DEBUG INFO) Executor start aborting (this does not indicate an error and you can ignore this message): INVALID_ARGUMENT: You must feed a value for placeholder tensor 'inputs' with dtype float and shape [?,42]\n",
      "\t [[{{node inputs}}]]\n",
      "2023-03-10 22:26:25.158874: I tensorflow/core/common_runtime/executor.cc:1197] [/device:CPU:0] (DEBUG INFO) Executor start aborting (this does not indicate an error and you can ignore this message): INVALID_ARGUMENT: You must feed a value for placeholder tensor 'inputs' with dtype float and shape [?,20]\n",
      "\t [[{{node inputs}}]]\n",
      "2023-03-10 22:26:25.199515: I tensorflow/core/common_runtime/executor.cc:1197] [/device:CPU:0] (DEBUG INFO) Executor start aborting (this does not indicate an error and you can ignore this message): INVALID_ARGUMENT: You must feed a value for placeholder tensor 'inputs' with dtype float and shape [?,42]\n",
      "\t [[{{node inputs}}]]\n",
      "2023-03-10 22:26:25.327761: I tensorflow/core/common_runtime/executor.cc:1197] [/device:CPU:0] (DEBUG INFO) Executor start aborting (this does not indicate an error and you can ignore this message): INVALID_ARGUMENT: You must feed a value for placeholder tensor 'inputs' with dtype float and shape [?,42]\n",
      "\t [[{{node inputs}}]]\n",
      "2023-03-10 22:26:25.417542: I tensorflow/core/common_runtime/executor.cc:1197] [/device:CPU:0] (DEBUG INFO) Executor start aborting (this does not indicate an error and you can ignore this message): INVALID_ARGUMENT: You must feed a value for placeholder tensor 'inputs' with dtype float and shape [?,42]\n",
      "\t [[{{node inputs}}]]\n",
      "2023-03-10 22:26:25.472116: I tensorflow/core/common_runtime/executor.cc:1197] [/device:CPU:0] (DEBUG INFO) Executor start aborting (this does not indicate an error and you can ignore this message): INVALID_ARGUMENT: You must feed a value for placeholder tensor 'inputs' with dtype float and shape [?,20]\n",
      "\t [[{{node inputs}}]]\n",
      "WARNING:absl:Found untraced functions such as _update_step_xla while saving (showing 1 of 1). These functions will not be directly callable after loading.\n"
     ]
    },
    {
     "name": "stdout",
     "output_type": "stream",
     "text": [
      "INFO:tensorflow:Assets written to: /var/folders/jd/nyq8h0tj1k366zhybdqjgsqm0000gn/T/tmpnc7uut81/assets\n"
     ]
    },
    {
     "name": "stderr",
     "output_type": "stream",
     "text": [
      "INFO:tensorflow:Assets written to: /var/folders/jd/nyq8h0tj1k366zhybdqjgsqm0000gn/T/tmpnc7uut81/assets\n",
      "2023-03-10 22:26:29.982868: W tensorflow/compiler/mlir/lite/python/tf_tfl_flatbuffer_helpers.cc:364] Ignored output_format.\n",
      "2023-03-10 22:26:29.995299: W tensorflow/compiler/mlir/lite/python/tf_tfl_flatbuffer_helpers.cc:367] Ignored drop_control_dependency.\n",
      "2023-03-10 22:26:30.015099: I tensorflow/cc/saved_model/reader.cc:45] Reading SavedModel from: /var/folders/jd/nyq8h0tj1k366zhybdqjgsqm0000gn/T/tmpnc7uut81\n",
      "2023-03-10 22:26:30.018389: I tensorflow/cc/saved_model/reader.cc:89] Reading meta graph with tags { serve }\n",
      "2023-03-10 22:26:30.018420: I tensorflow/cc/saved_model/reader.cc:130] Reading SavedModel debug info (if present) from: /var/folders/jd/nyq8h0tj1k366zhybdqjgsqm0000gn/T/tmpnc7uut81\n",
      "2023-03-10 22:26:30.056260: I tensorflow/cc/saved_model/loader.cc:231] Restoring SavedModel bundle.\n",
      "2023-03-10 22:26:30.476042: I tensorflow/cc/saved_model/loader.cc:215] Running initialization op on SavedModel bundle at path: /var/folders/jd/nyq8h0tj1k366zhybdqjgsqm0000gn/T/tmpnc7uut81\n",
      "2023-03-10 22:26:30.493854: I tensorflow/cc/saved_model/loader.cc:314] SavedModel load for tags { serve }; Status: success: OK. Took 478760 microseconds.\n"
     ]
    },
    {
     "data": {
      "text/plain": [
       "7516"
      ]
     },
     "execution_count": 17,
     "metadata": {},
     "output_type": "execute_result"
    }
   ],
   "source": [
    "# Transform model (quantization)\n",
    "\n",
    "converter = tf.lite.TFLiteConverter.from_keras_model(model)\n",
    "converter.optimizations = [tf.lite.Optimize.DEFAULT]\n",
    "tflite_quantized_model = converter.convert()\n",
    "\n",
    "open(tflite_save_path, 'wb').write(tflite_quantized_model)"
   ]
  },
  {
   "cell_type": "markdown",
   "metadata": {
    "id": "CHBPBXdx9hE6"
   },
   "source": [
    "# Inference test"
   ]
  },
  {
   "cell_type": "code",
   "execution_count": 18,
   "metadata": {
    "id": "mGAzLocO9hE7"
   },
   "outputs": [
    {
     "name": "stderr",
     "output_type": "stream",
     "text": [
      "INFO: Created TensorFlow Lite XNNPACK delegate for CPU.\n"
     ]
    }
   ],
   "source": [
    "interpreter = tf.lite.Interpreter(model_path=tflite_save_path)\n",
    "interpreter.allocate_tensors()"
   ]
  },
  {
   "cell_type": "code",
   "execution_count": 19,
   "metadata": {
    "id": "oQuDK8YS9hE7"
   },
   "outputs": [],
   "source": [
    "# Get I / O tensor\n",
    "input_details = interpreter.get_input_details()\n",
    "output_details = interpreter.get_output_details()"
   ]
  },
  {
   "cell_type": "code",
   "execution_count": 20,
   "metadata": {
    "id": "2_ixAf_l9hE7"
   },
   "outputs": [],
   "source": [
    "interpreter.set_tensor(input_details[0]['index'], np.array([X_test[0]]))"
   ]
  },
  {
   "cell_type": "code",
   "execution_count": 21,
   "metadata": {
    "colab": {
     "base_uri": "https://localhost:8080/"
    },
    "id": "s4FoAnuc9hE7",
    "outputId": "91f18257-8d8b-4ef3-c558-e9b5f94fabbf",
    "scrolled": true
   },
   "outputs": [
    {
     "name": "stdout",
     "output_type": "stream",
     "text": [
      "[4.6908228e-38 0.0000000e+00 0.0000000e+00 0.0000000e+00 0.0000000e+00\n",
      " 0.0000000e+00 0.0000000e+00 0.0000000e+00 1.0936391e-20 2.0262179e-29\n",
      " 0.0000000e+00 4.3902160e-24 4.7333873e-04 1.8990567e-03 1.6166275e-34\n",
      " 3.9019754e-36 0.0000000e+00 0.0000000e+00 0.0000000e+00 0.0000000e+00\n",
      " 9.9762768e-01 0.0000000e+00 0.0000000e+00 0.0000000e+00 8.5184066e-36\n",
      " 0.0000000e+00]\n",
      "20\n",
      "CPU times: user 1.54 ms, sys: 1.49 ms, total: 3.03 ms\n",
      "Wall time: 2.2 ms\n"
     ]
    }
   ],
   "source": [
    "%%time\n",
    "# Inference implementation\n",
    "interpreter.invoke()\n",
    "tflite_results = interpreter.get_tensor(output_details[0]['index'])\n",
    "print(np.squeeze(tflite_results))\n",
    "print(np.argmax(np.squeeze(tflite_results)))"
   ]
  }
 ],
 "metadata": {
  "accelerator": "GPU",
  "colab": {
   "collapsed_sections": [],
   "name": "keypoint_classification_EN.ipynb",
   "provenance": [],
   "toc_visible": true
  },
  "kernelspec": {
   "display_name": "Python 3 (ipykernel)",
   "language": "python",
   "name": "python3"
  },
  "language_info": {
   "codemirror_mode": {
    "name": "ipython",
    "version": 3
   },
   "file_extension": ".py",
   "mimetype": "text/x-python",
   "name": "python",
   "nbconvert_exporter": "python",
   "pygments_lexer": "ipython3",
   "version": "3.11.1"
  }
 },
 "nbformat": 4,
 "nbformat_minor": 1
}
